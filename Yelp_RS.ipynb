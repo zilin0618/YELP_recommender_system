{
 "cells": [
  {
   "cell_type": "code",
   "execution_count": 1,
   "metadata": {},
   "outputs": [],
   "source": [
    "import pandas as pd\n",
    "import numpy as np\n",
    "import json\n",
    "import matplotlib.pyplot as plt\n",
    "import random\n",
    "import plotly\n",
    "import plotly.tools as tls"
   ]
  },
  {
   "cell_type": "markdown",
   "metadata": {},
   "source": [
    "# Step 1. Data Preperation"
   ]
  },
  {
   "cell_type": "markdown",
   "metadata": {},
   "source": [
    "Reduce the \"business\" dataset to business that are still open and extract businesses with \"restaurant\" in the category. Then removed unnecessary coulmns from dataset and rename dataset as \"restaurant\". After reducing the \"business\" dataset, \"review\" dataset was reduced by droping unnecessary columns and inner join the rest of \"review\" data to the \"restaurant\" dataset. "
   ]
  },
  {
   "cell_type": "markdown",
   "metadata": {},
   "source": [
    "Loading and exploring business.json"
   ]
  },
  {
   "cell_type": "code",
   "execution_count": 2,
   "metadata": {},
   "outputs": [],
   "source": [
    "business = pd.read_json('C:../../Desktop/CIND820/yelp_data/yelp_academic_dataset_business.json', lines = True)"
   ]
  },
  {
   "cell_type": "markdown",
   "metadata": {},
   "source": [
    "Group by cities to see the top 10 amount of records."
   ]
  },
  {
   "cell_type": "markdown",
   "metadata": {},
   "source": [
    "Keep the businesses that are still open, and set the city as Toronto"
   ]
  },
  {
   "cell_type": "code",
   "execution_count": 3,
   "metadata": {
    "scrolled": true
   },
   "outputs": [
    {
     "name": "stdout",
     "output_type": "stream",
     "text": [
      "(168903, 14)\n"
     ]
    },
    {
     "data": {
      "text/html": [
       "<div>\n",
       "<style scoped>\n",
       "    .dataframe tbody tr th:only-of-type {\n",
       "        vertical-align: middle;\n",
       "    }\n",
       "\n",
       "    .dataframe tbody tr th {\n",
       "        vertical-align: top;\n",
       "    }\n",
       "\n",
       "    .dataframe thead th {\n",
       "        text-align: right;\n",
       "    }\n",
       "</style>\n",
       "<table border=\"1\" class=\"dataframe\">\n",
       "  <thead>\n",
       "    <tr style=\"text-align: right;\">\n",
       "      <th></th>\n",
       "      <th>business_id</th>\n",
       "      <th>name</th>\n",
       "      <th>address</th>\n",
       "      <th>city</th>\n",
       "      <th>state</th>\n",
       "      <th>postal_code</th>\n",
       "      <th>latitude</th>\n",
       "      <th>longitude</th>\n",
       "      <th>stars</th>\n",
       "      <th>review_count</th>\n",
       "      <th>is_open</th>\n",
       "      <th>attributes</th>\n",
       "      <th>categories</th>\n",
       "      <th>hours</th>\n",
       "    </tr>\n",
       "  </thead>\n",
       "  <tbody>\n",
       "    <tr>\n",
       "      <th>0</th>\n",
       "      <td>f9NumwFMBDn751xgFiRbNA</td>\n",
       "      <td>The Range At Lake Norman</td>\n",
       "      <td>10913 Bailey Rd</td>\n",
       "      <td>Cornelius</td>\n",
       "      <td>NC</td>\n",
       "      <td>28031</td>\n",
       "      <td>35.462724</td>\n",
       "      <td>-80.852612</td>\n",
       "      <td>3.5</td>\n",
       "      <td>36</td>\n",
       "      <td>1</td>\n",
       "      <td>{'BusinessAcceptsCreditCards': 'True', 'BikePa...</td>\n",
       "      <td>Active Life, Gun/Rifle Ranges, Guns &amp; Ammo, Sh...</td>\n",
       "      <td>{'Monday': '10:0-18:0', 'Tuesday': '11:0-20:0'...</td>\n",
       "    </tr>\n",
       "    <tr>\n",
       "      <th>1</th>\n",
       "      <td>Yzvjg0SayhoZgCljUJRF9Q</td>\n",
       "      <td>Carlos Santo, NMD</td>\n",
       "      <td>8880 E Via Linda, Ste 107</td>\n",
       "      <td>Scottsdale</td>\n",
       "      <td>AZ</td>\n",
       "      <td>85258</td>\n",
       "      <td>33.569404</td>\n",
       "      <td>-111.890264</td>\n",
       "      <td>5.0</td>\n",
       "      <td>4</td>\n",
       "      <td>1</td>\n",
       "      <td>{'GoodForKids': 'True', 'ByAppointmentOnly': '...</td>\n",
       "      <td>Health &amp; Medical, Fitness &amp; Instruction, Yoga,...</td>\n",
       "      <td>None</td>\n",
       "    </tr>\n",
       "    <tr>\n",
       "      <th>2</th>\n",
       "      <td>XNoUzKckATkOD1hP6vghZg</td>\n",
       "      <td>Felinus</td>\n",
       "      <td>3554 Rue Notre-Dame O</td>\n",
       "      <td>Montreal</td>\n",
       "      <td>QC</td>\n",
       "      <td>H4C 1P4</td>\n",
       "      <td>45.479984</td>\n",
       "      <td>-73.580070</td>\n",
       "      <td>5.0</td>\n",
       "      <td>5</td>\n",
       "      <td>1</td>\n",
       "      <td>None</td>\n",
       "      <td>Pets, Pet Services, Pet Groomers</td>\n",
       "      <td>None</td>\n",
       "    </tr>\n",
       "    <tr>\n",
       "      <th>4</th>\n",
       "      <td>51M2Kk903DFYI6gnB5I6SQ</td>\n",
       "      <td>USE MY GUY SERVICES LLC</td>\n",
       "      <td>4827 E Downing Cir</td>\n",
       "      <td>Mesa</td>\n",
       "      <td>AZ</td>\n",
       "      <td>85205</td>\n",
       "      <td>33.428065</td>\n",
       "      <td>-111.726648</td>\n",
       "      <td>4.5</td>\n",
       "      <td>26</td>\n",
       "      <td>1</td>\n",
       "      <td>{'BusinessAcceptsCreditCards': 'True', 'ByAppo...</td>\n",
       "      <td>Home Services, Plumbing, Electricians, Handyma...</td>\n",
       "      <td>{'Monday': '0:0-0:0', 'Tuesday': '9:0-16:0', '...</td>\n",
       "    </tr>\n",
       "    <tr>\n",
       "      <th>5</th>\n",
       "      <td>cKyLV5oWZJ2NudWgqs8VZw</td>\n",
       "      <td>Oasis Auto Center - Gilbert</td>\n",
       "      <td>1720 W Elliot Rd, Ste 105</td>\n",
       "      <td>Gilbert</td>\n",
       "      <td>AZ</td>\n",
       "      <td>85233</td>\n",
       "      <td>33.350399</td>\n",
       "      <td>-111.827142</td>\n",
       "      <td>4.5</td>\n",
       "      <td>38</td>\n",
       "      <td>1</td>\n",
       "      <td>{'BusinessAcceptsCreditCards': 'True'}</td>\n",
       "      <td>Auto Repair, Automotive, Oil Change Stations, ...</td>\n",
       "      <td>{'Monday': '7:0-18:0', 'Tuesday': '7:0-18:0', ...</td>\n",
       "    </tr>\n",
       "  </tbody>\n",
       "</table>\n",
       "</div>"
      ],
      "text/plain": [
       "              business_id                         name  \\\n",
       "0  f9NumwFMBDn751xgFiRbNA     The Range At Lake Norman   \n",
       "1  Yzvjg0SayhoZgCljUJRF9Q            Carlos Santo, NMD   \n",
       "2  XNoUzKckATkOD1hP6vghZg                      Felinus   \n",
       "4  51M2Kk903DFYI6gnB5I6SQ      USE MY GUY SERVICES LLC   \n",
       "5  cKyLV5oWZJ2NudWgqs8VZw  Oasis Auto Center - Gilbert   \n",
       "\n",
       "                     address        city state postal_code   latitude  \\\n",
       "0            10913 Bailey Rd   Cornelius    NC       28031  35.462724   \n",
       "1  8880 E Via Linda, Ste 107  Scottsdale    AZ       85258  33.569404   \n",
       "2      3554 Rue Notre-Dame O    Montreal    QC     H4C 1P4  45.479984   \n",
       "4         4827 E Downing Cir        Mesa    AZ       85205  33.428065   \n",
       "5  1720 W Elliot Rd, Ste 105     Gilbert    AZ       85233  33.350399   \n",
       "\n",
       "    longitude  stars  review_count  is_open  \\\n",
       "0  -80.852612    3.5            36        1   \n",
       "1 -111.890264    5.0             4        1   \n",
       "2  -73.580070    5.0             5        1   \n",
       "4 -111.726648    4.5            26        1   \n",
       "5 -111.827142    4.5            38        1   \n",
       "\n",
       "                                          attributes  \\\n",
       "0  {'BusinessAcceptsCreditCards': 'True', 'BikePa...   \n",
       "1  {'GoodForKids': 'True', 'ByAppointmentOnly': '...   \n",
       "2                                               None   \n",
       "4  {'BusinessAcceptsCreditCards': 'True', 'ByAppo...   \n",
       "5             {'BusinessAcceptsCreditCards': 'True'}   \n",
       "\n",
       "                                          categories  \\\n",
       "0  Active Life, Gun/Rifle Ranges, Guns & Ammo, Sh...   \n",
       "1  Health & Medical, Fitness & Instruction, Yoga,...   \n",
       "2                   Pets, Pet Services, Pet Groomers   \n",
       "4  Home Services, Plumbing, Electricians, Handyma...   \n",
       "5  Auto Repair, Automotive, Oil Change Stations, ...   \n",
       "\n",
       "                                               hours  \n",
       "0  {'Monday': '10:0-18:0', 'Tuesday': '11:0-20:0'...  \n",
       "1                                               None  \n",
       "2                                               None  \n",
       "4  {'Monday': '0:0-0:0', 'Tuesday': '9:0-16:0', '...  \n",
       "5  {'Monday': '7:0-18:0', 'Tuesday': '7:0-18:0', ...  "
      ]
     },
     "execution_count": 3,
     "metadata": {},
     "output_type": "execute_result"
    }
   ],
   "source": [
    "# 1 = open\n",
    "business = business[business['is_open'] == 1]\n",
    "print(business.shape)\n",
    "business.head(5)"
   ]
  },
  {
   "cell_type": "markdown",
   "metadata": {},
   "source": [
    "Drop irrelevent columns"
   ]
  },
  {
   "cell_type": "code",
   "execution_count": 4,
   "metadata": {},
   "outputs": [
    {
     "data": {
      "text/html": [
       "<div>\n",
       "<style scoped>\n",
       "    .dataframe tbody tr th:only-of-type {\n",
       "        vertical-align: middle;\n",
       "    }\n",
       "\n",
       "    .dataframe tbody tr th {\n",
       "        vertical-align: top;\n",
       "    }\n",
       "\n",
       "    .dataframe thead th {\n",
       "        text-align: right;\n",
       "    }\n",
       "</style>\n",
       "<table border=\"1\" class=\"dataframe\">\n",
       "  <thead>\n",
       "    <tr style=\"text-align: right;\">\n",
       "      <th></th>\n",
       "      <th>business_id</th>\n",
       "      <th>name</th>\n",
       "      <th>address</th>\n",
       "      <th>city</th>\n",
       "      <th>latitude</th>\n",
       "      <th>longitude</th>\n",
       "      <th>stars</th>\n",
       "      <th>categories</th>\n",
       "    </tr>\n",
       "  </thead>\n",
       "  <tbody>\n",
       "    <tr>\n",
       "      <th>0</th>\n",
       "      <td>f9NumwFMBDn751xgFiRbNA</td>\n",
       "      <td>The Range At Lake Norman</td>\n",
       "      <td>10913 Bailey Rd</td>\n",
       "      <td>Cornelius</td>\n",
       "      <td>35.462724</td>\n",
       "      <td>-80.852612</td>\n",
       "      <td>3.5</td>\n",
       "      <td>Active Life, Gun/Rifle Ranges, Guns &amp; Ammo, Sh...</td>\n",
       "    </tr>\n",
       "    <tr>\n",
       "      <th>1</th>\n",
       "      <td>Yzvjg0SayhoZgCljUJRF9Q</td>\n",
       "      <td>Carlos Santo, NMD</td>\n",
       "      <td>8880 E Via Linda, Ste 107</td>\n",
       "      <td>Scottsdale</td>\n",
       "      <td>33.569404</td>\n",
       "      <td>-111.890264</td>\n",
       "      <td>5.0</td>\n",
       "      <td>Health &amp; Medical, Fitness &amp; Instruction, Yoga,...</td>\n",
       "    </tr>\n",
       "    <tr>\n",
       "      <th>2</th>\n",
       "      <td>XNoUzKckATkOD1hP6vghZg</td>\n",
       "      <td>Felinus</td>\n",
       "      <td>3554 Rue Notre-Dame O</td>\n",
       "      <td>Montreal</td>\n",
       "      <td>45.479984</td>\n",
       "      <td>-73.580070</td>\n",
       "      <td>5.0</td>\n",
       "      <td>Pets, Pet Services, Pet Groomers</td>\n",
       "    </tr>\n",
       "    <tr>\n",
       "      <th>4</th>\n",
       "      <td>51M2Kk903DFYI6gnB5I6SQ</td>\n",
       "      <td>USE MY GUY SERVICES LLC</td>\n",
       "      <td>4827 E Downing Cir</td>\n",
       "      <td>Mesa</td>\n",
       "      <td>33.428065</td>\n",
       "      <td>-111.726648</td>\n",
       "      <td>4.5</td>\n",
       "      <td>Home Services, Plumbing, Electricians, Handyma...</td>\n",
       "    </tr>\n",
       "    <tr>\n",
       "      <th>5</th>\n",
       "      <td>cKyLV5oWZJ2NudWgqs8VZw</td>\n",
       "      <td>Oasis Auto Center - Gilbert</td>\n",
       "      <td>1720 W Elliot Rd, Ste 105</td>\n",
       "      <td>Gilbert</td>\n",
       "      <td>33.350399</td>\n",
       "      <td>-111.827142</td>\n",
       "      <td>4.5</td>\n",
       "      <td>Auto Repair, Automotive, Oil Change Stations, ...</td>\n",
       "    </tr>\n",
       "  </tbody>\n",
       "</table>\n",
       "</div>"
      ],
      "text/plain": [
       "              business_id                         name  \\\n",
       "0  f9NumwFMBDn751xgFiRbNA     The Range At Lake Norman   \n",
       "1  Yzvjg0SayhoZgCljUJRF9Q            Carlos Santo, NMD   \n",
       "2  XNoUzKckATkOD1hP6vghZg                      Felinus   \n",
       "4  51M2Kk903DFYI6gnB5I6SQ      USE MY GUY SERVICES LLC   \n",
       "5  cKyLV5oWZJ2NudWgqs8VZw  Oasis Auto Center - Gilbert   \n",
       "\n",
       "                     address        city   latitude   longitude  stars  \\\n",
       "0            10913 Bailey Rd   Cornelius  35.462724  -80.852612    3.5   \n",
       "1  8880 E Via Linda, Ste 107  Scottsdale  33.569404 -111.890264    5.0   \n",
       "2      3554 Rue Notre-Dame O    Montreal  45.479984  -73.580070    5.0   \n",
       "4         4827 E Downing Cir        Mesa  33.428065 -111.726648    4.5   \n",
       "5  1720 W Elliot Rd, Ste 105     Gilbert  33.350399 -111.827142    4.5   \n",
       "\n",
       "                                          categories  \n",
       "0  Active Life, Gun/Rifle Ranges, Guns & Ammo, Sh...  \n",
       "1  Health & Medical, Fitness & Instruction, Yoga,...  \n",
       "2                   Pets, Pet Services, Pet Groomers  \n",
       "4  Home Services, Plumbing, Electricians, Handyma...  \n",
       "5  Auto Repair, Automotive, Oil Change Stations, ...  "
      ]
     },
     "execution_count": 4,
     "metadata": {},
     "output_type": "execute_result"
    }
   ],
   "source": [
    "drop_cols = ['state', 'hours', 'is_open', 'postal_code', 'review_count', 'attributes']\n",
    "business = business.drop(drop_cols, axis = 1)\n",
    "business.head(5)"
   ]
  },
  {
   "cell_type": "markdown",
   "metadata": {},
   "source": [
    "Keep only restaurants."
   ]
  },
  {
   "cell_type": "code",
   "execution_count": 5,
   "metadata": {},
   "outputs": [
    {
     "name": "stdout",
     "output_type": "stream",
     "text": [
      "(43965, 8)\n"
     ]
    },
    {
     "data": {
      "text/html": [
       "<div>\n",
       "<style scoped>\n",
       "    .dataframe tbody tr th:only-of-type {\n",
       "        vertical-align: middle;\n",
       "    }\n",
       "\n",
       "    .dataframe tbody tr th {\n",
       "        vertical-align: top;\n",
       "    }\n",
       "\n",
       "    .dataframe thead th {\n",
       "        text-align: right;\n",
       "    }\n",
       "</style>\n",
       "<table border=\"1\" class=\"dataframe\">\n",
       "  <thead>\n",
       "    <tr style=\"text-align: right;\">\n",
       "      <th></th>\n",
       "      <th>business_id</th>\n",
       "      <th>name</th>\n",
       "      <th>address</th>\n",
       "      <th>city</th>\n",
       "      <th>latitude</th>\n",
       "      <th>longitude</th>\n",
       "      <th>stars</th>\n",
       "      <th>categories</th>\n",
       "    </tr>\n",
       "  </thead>\n",
       "  <tbody>\n",
       "    <tr>\n",
       "      <th>8</th>\n",
       "      <td>pQeaRpvuhoEqudo3uymHIQ</td>\n",
       "      <td>The Empanadas House</td>\n",
       "      <td>404 E Green St</td>\n",
       "      <td>Champaign</td>\n",
       "      <td>40.110446</td>\n",
       "      <td>-88.233073</td>\n",
       "      <td>4.5</td>\n",
       "      <td>Ethnic Food, Food Trucks, Specialty Food, Impo...</td>\n",
       "    </tr>\n",
       "    <tr>\n",
       "      <th>24</th>\n",
       "      <td>eBEfgOPG7pvFhb2wcG9I7w</td>\n",
       "      <td>Philthy Phillys</td>\n",
       "      <td>15480 Bayview Avenue, unit D0110</td>\n",
       "      <td>Aurora</td>\n",
       "      <td>44.010962</td>\n",
       "      <td>-79.448677</td>\n",
       "      <td>4.5</td>\n",
       "      <td>Restaurants, Cheesesteaks, Poutineries</td>\n",
       "    </tr>\n",
       "    <tr>\n",
       "      <th>25</th>\n",
       "      <td>lu7vtrp_bE9PnxWfA8g4Pg</td>\n",
       "      <td>Banzai Sushi</td>\n",
       "      <td>300 John Street</td>\n",
       "      <td>Thornhill</td>\n",
       "      <td>43.820492</td>\n",
       "      <td>-79.398466</td>\n",
       "      <td>4.5</td>\n",
       "      <td>Japanese, Fast Food, Food Court, Restaurants</td>\n",
       "    </tr>\n",
       "    <tr>\n",
       "      <th>30</th>\n",
       "      <td>9sRGfSVEfLhN_km60YruTA</td>\n",
       "      <td>Apadana Restaurant</td>\n",
       "      <td>13071 Yonge Street</td>\n",
       "      <td>Richmond Hill</td>\n",
       "      <td>43.947011</td>\n",
       "      <td>-79.454862</td>\n",
       "      <td>3.0</td>\n",
       "      <td>Persian/Iranian, Turkish, Middle Eastern, Rest...</td>\n",
       "    </tr>\n",
       "    <tr>\n",
       "      <th>33</th>\n",
       "      <td>vjTVxnsQEZ34XjYNS-XUpA</td>\n",
       "      <td>Wetzel's Pretzels</td>\n",
       "      <td>4550 East Cactus Rd, #KSFC-4</td>\n",
       "      <td>Phoenix</td>\n",
       "      <td>33.602822</td>\n",
       "      <td>-111.983533</td>\n",
       "      <td>4.0</td>\n",
       "      <td>Food, Pretzels, Bakeries, Fast Food, Restaurants</td>\n",
       "    </tr>\n",
       "  </tbody>\n",
       "</table>\n",
       "</div>"
      ],
      "text/plain": [
       "               business_id                 name  \\\n",
       "8   pQeaRpvuhoEqudo3uymHIQ  The Empanadas House   \n",
       "24  eBEfgOPG7pvFhb2wcG9I7w      Philthy Phillys   \n",
       "25  lu7vtrp_bE9PnxWfA8g4Pg         Banzai Sushi   \n",
       "30  9sRGfSVEfLhN_km60YruTA   Apadana Restaurant   \n",
       "33  vjTVxnsQEZ34XjYNS-XUpA    Wetzel's Pretzels   \n",
       "\n",
       "                             address           city   latitude   longitude  \\\n",
       "8                     404 E Green St      Champaign  40.110446  -88.233073   \n",
       "24  15480 Bayview Avenue, unit D0110         Aurora  44.010962  -79.448677   \n",
       "25                   300 John Street      Thornhill  43.820492  -79.398466   \n",
       "30                13071 Yonge Street  Richmond Hill  43.947011  -79.454862   \n",
       "33      4550 East Cactus Rd, #KSFC-4        Phoenix  33.602822 -111.983533   \n",
       "\n",
       "    stars                                         categories  \n",
       "8     4.5  Ethnic Food, Food Trucks, Specialty Food, Impo...  \n",
       "24    4.5             Restaurants, Cheesesteaks, Poutineries  \n",
       "25    4.5       Japanese, Fast Food, Food Court, Restaurants  \n",
       "30    3.0  Persian/Iranian, Turkish, Middle Eastern, Rest...  \n",
       "33    4.0   Food, Pretzels, Bakeries, Fast Food, Restaurants  "
      ]
     },
     "execution_count": 5,
     "metadata": {},
     "output_type": "execute_result"
    }
   ],
   "source": [
    "restaurant = business[business.categories.str.contains('Restaurants', case=False, na=False)]\n",
    "print(restaurant.shape)\n",
    "restaurant.head(5)"
   ]
  },
  {
   "cell_type": "code",
   "execution_count": 6,
   "metadata": {},
   "outputs": [
    {
     "data": {
      "text/plain": [
       "city\n",
       "Toronto        5462\n",
       "Las Vegas      4378\n",
       "Montr茅al       2885\n",
       "Phoenix        2767\n",
       "Calgary        2270\n",
       "Charlotte      2032\n",
       "Pittsburgh     1749\n",
       "Mississauga    1253\n",
       "Cleveland      1075\n",
       "Scottsdale      947\n",
       "dtype: int64"
      ]
     },
     "execution_count": 6,
     "metadata": {},
     "output_type": "execute_result"
    }
   ],
   "source": [
    "restaurant.groupby(['city']).size().nlargest(10)"
   ]
  },
  {
   "cell_type": "markdown",
   "metadata": {},
   "source": [
    "Loading and exploring review.json"
   ]
  },
  {
   "cell_type": "code",
   "execution_count": 7,
   "metadata": {},
   "outputs": [],
   "source": [
    "path = 'C:../../Desktop/CIND820/yelp_data/yelp_academic_dataset_review.json'"
   ]
  },
  {
   "cell_type": "code",
   "execution_count": 8,
   "metadata": {
    "scrolled": true
   },
   "outputs": [],
   "source": [
    "def load_rows(filepath, nrows = None):\n",
    "    with open(filepath, 'rb') as json_file:\n",
    "        count = 0\n",
    "        objs = []\n",
    "        line = json_file.readline()\n",
    "        while (nrows is None or count < nrows) and line:\n",
    "            count += 1\n",
    "            obj = json.loads(line)\n",
    "            objs.append(obj)\n",
    "            line = json_file.readline()\n",
    "        return pd.DataFrame(objs)"
   ]
  },
  {
   "cell_type": "code",
   "execution_count": 9,
   "metadata": {},
   "outputs": [
    {
     "name": "stdout",
     "output_type": "stream",
     "text": [
      "Review objects loaded. Count = 8021122\n"
     ]
    }
   ],
   "source": [
    "reviews = load_rows('C:../../Desktop/CIND820/yelp_data/yelp_academic_dataset_review.json')\n",
    "print('Review objects loaded. Count = {}'.format(reviews.shape[0]))"
   ]
  },
  {
   "cell_type": "code",
   "execution_count": 10,
   "metadata": {},
   "outputs": [
    {
     "data": {
      "text/html": [
       "<div>\n",
       "<style scoped>\n",
       "    .dataframe tbody tr th:only-of-type {\n",
       "        vertical-align: middle;\n",
       "    }\n",
       "\n",
       "    .dataframe tbody tr th {\n",
       "        vertical-align: top;\n",
       "    }\n",
       "\n",
       "    .dataframe thead th {\n",
       "        text-align: right;\n",
       "    }\n",
       "</style>\n",
       "<table border=\"1\" class=\"dataframe\">\n",
       "  <thead>\n",
       "    <tr style=\"text-align: right;\">\n",
       "      <th></th>\n",
       "      <th>review_id</th>\n",
       "      <th>user_id</th>\n",
       "      <th>business_id</th>\n",
       "      <th>stars</th>\n",
       "      <th>useful</th>\n",
       "      <th>funny</th>\n",
       "      <th>cool</th>\n",
       "      <th>text</th>\n",
       "      <th>date</th>\n",
       "    </tr>\n",
       "  </thead>\n",
       "  <tbody>\n",
       "    <tr>\n",
       "      <th>0</th>\n",
       "      <td>xQY8N_XvtGbearJ5X4QryQ</td>\n",
       "      <td>OwjRMXRC0KyPrIlcjaXeFQ</td>\n",
       "      <td>-MhfebM0QIsKt87iDN-FNw</td>\n",
       "      <td>2.0</td>\n",
       "      <td>5</td>\n",
       "      <td>0</td>\n",
       "      <td>0</td>\n",
       "      <td>As someone who has worked with many museums, I...</td>\n",
       "      <td>2015-04-15 05:21:16</td>\n",
       "    </tr>\n",
       "    <tr>\n",
       "      <th>1</th>\n",
       "      <td>UmFMZ8PyXZTY2QcwzsfQYA</td>\n",
       "      <td>nIJD_7ZXHq-FX8byPMOkMQ</td>\n",
       "      <td>lbrU8StCq3yDfr-QMnGrmQ</td>\n",
       "      <td>1.0</td>\n",
       "      <td>1</td>\n",
       "      <td>1</td>\n",
       "      <td>0</td>\n",
       "      <td>I am actually horrified this place is still in...</td>\n",
       "      <td>2013-12-07 03:16:52</td>\n",
       "    </tr>\n",
       "    <tr>\n",
       "      <th>2</th>\n",
       "      <td>LG2ZaYiOgpr2DK_90pYjNw</td>\n",
       "      <td>V34qejxNsCbcgD8C0HVk-Q</td>\n",
       "      <td>HQl28KMwrEKHqhFrrDqVNQ</td>\n",
       "      <td>5.0</td>\n",
       "      <td>1</td>\n",
       "      <td>0</td>\n",
       "      <td>0</td>\n",
       "      <td>I love Deagan's. I do. I really do. The atmosp...</td>\n",
       "      <td>2015-12-05 03:18:11</td>\n",
       "    </tr>\n",
       "    <tr>\n",
       "      <th>3</th>\n",
       "      <td>i6g_oA9Yf9Y31qt0wibXpw</td>\n",
       "      <td>ofKDkJKXSKZXu5xJNGiiBQ</td>\n",
       "      <td>5JxlZaqCnk1MnbgRirs40Q</td>\n",
       "      <td>1.0</td>\n",
       "      <td>0</td>\n",
       "      <td>0</td>\n",
       "      <td>0</td>\n",
       "      <td>Dismal, lukewarm, defrosted-tasting \"TexMex\" g...</td>\n",
       "      <td>2011-05-27 05:30:52</td>\n",
       "    </tr>\n",
       "    <tr>\n",
       "      <th>4</th>\n",
       "      <td>6TdNDKywdbjoTkizeMce8A</td>\n",
       "      <td>UgMW8bLE0QMJDCkQ1Ax5Mg</td>\n",
       "      <td>IS4cv902ykd8wj1TR0N3-A</td>\n",
       "      <td>4.0</td>\n",
       "      <td>0</td>\n",
       "      <td>0</td>\n",
       "      <td>0</td>\n",
       "      <td>Oh happy day, finally have a Canes near my cas...</td>\n",
       "      <td>2017-01-14 21:56:57</td>\n",
       "    </tr>\n",
       "  </tbody>\n",
       "</table>\n",
       "</div>"
      ],
      "text/plain": [
       "                review_id                 user_id             business_id  \\\n",
       "0  xQY8N_XvtGbearJ5X4QryQ  OwjRMXRC0KyPrIlcjaXeFQ  -MhfebM0QIsKt87iDN-FNw   \n",
       "1  UmFMZ8PyXZTY2QcwzsfQYA  nIJD_7ZXHq-FX8byPMOkMQ  lbrU8StCq3yDfr-QMnGrmQ   \n",
       "2  LG2ZaYiOgpr2DK_90pYjNw  V34qejxNsCbcgD8C0HVk-Q  HQl28KMwrEKHqhFrrDqVNQ   \n",
       "3  i6g_oA9Yf9Y31qt0wibXpw  ofKDkJKXSKZXu5xJNGiiBQ  5JxlZaqCnk1MnbgRirs40Q   \n",
       "4  6TdNDKywdbjoTkizeMce8A  UgMW8bLE0QMJDCkQ1Ax5Mg  IS4cv902ykd8wj1TR0N3-A   \n",
       "\n",
       "   stars  useful  funny  cool  \\\n",
       "0    2.0       5      0     0   \n",
       "1    1.0       1      1     0   \n",
       "2    5.0       1      0     0   \n",
       "3    1.0       0      0     0   \n",
       "4    4.0       0      0     0   \n",
       "\n",
       "                                                text                 date  \n",
       "0  As someone who has worked with many museums, I...  2015-04-15 05:21:16  \n",
       "1  I am actually horrified this place is still in...  2013-12-07 03:16:52  \n",
       "2  I love Deagan's. I do. I really do. The atmosp...  2015-12-05 03:18:11  \n",
       "3  Dismal, lukewarm, defrosted-tasting \"TexMex\" g...  2011-05-27 05:30:52  \n",
       "4  Oh happy day, finally have a Canes near my cas...  2017-01-14 21:56:57  "
      ]
     },
     "metadata": {},
     "output_type": "display_data"
    }
   ],
   "source": [
    "display(reviews.head(5))"
   ]
  },
  {
   "cell_type": "markdown",
   "metadata": {},
   "source": [
    "Drop unnecessary columns, rename 'star' column to 'review_star' to avoid conflict with 'star' in restaurant"
   ]
  },
  {
   "cell_type": "code",
   "execution_count": 11,
   "metadata": {
    "scrolled": true
   },
   "outputs": [
    {
     "data": {
      "text/html": [
       "<div>\n",
       "<style scoped>\n",
       "    .dataframe tbody tr th:only-of-type {\n",
       "        vertical-align: middle;\n",
       "    }\n",
       "\n",
       "    .dataframe tbody tr th {\n",
       "        vertical-align: top;\n",
       "    }\n",
       "\n",
       "    .dataframe thead th {\n",
       "        text-align: right;\n",
       "    }\n",
       "</style>\n",
       "<table border=\"1\" class=\"dataframe\">\n",
       "  <thead>\n",
       "    <tr style=\"text-align: right;\">\n",
       "      <th></th>\n",
       "      <th>user_id</th>\n",
       "      <th>business_id</th>\n",
       "      <th>user_rating</th>\n",
       "      <th>text</th>\n",
       "    </tr>\n",
       "  </thead>\n",
       "  <tbody>\n",
       "    <tr>\n",
       "      <th>0</th>\n",
       "      <td>OwjRMXRC0KyPrIlcjaXeFQ</td>\n",
       "      <td>-MhfebM0QIsKt87iDN-FNw</td>\n",
       "      <td>2.0</td>\n",
       "      <td>As someone who has worked with many museums, I...</td>\n",
       "    </tr>\n",
       "    <tr>\n",
       "      <th>1</th>\n",
       "      <td>nIJD_7ZXHq-FX8byPMOkMQ</td>\n",
       "      <td>lbrU8StCq3yDfr-QMnGrmQ</td>\n",
       "      <td>1.0</td>\n",
       "      <td>I am actually horrified this place is still in...</td>\n",
       "    </tr>\n",
       "    <tr>\n",
       "      <th>2</th>\n",
       "      <td>V34qejxNsCbcgD8C0HVk-Q</td>\n",
       "      <td>HQl28KMwrEKHqhFrrDqVNQ</td>\n",
       "      <td>5.0</td>\n",
       "      <td>I love Deagan's. I do. I really do. The atmosp...</td>\n",
       "    </tr>\n",
       "    <tr>\n",
       "      <th>3</th>\n",
       "      <td>ofKDkJKXSKZXu5xJNGiiBQ</td>\n",
       "      <td>5JxlZaqCnk1MnbgRirs40Q</td>\n",
       "      <td>1.0</td>\n",
       "      <td>Dismal, lukewarm, defrosted-tasting \"TexMex\" g...</td>\n",
       "    </tr>\n",
       "    <tr>\n",
       "      <th>4</th>\n",
       "      <td>UgMW8bLE0QMJDCkQ1Ax5Mg</td>\n",
       "      <td>IS4cv902ykd8wj1TR0N3-A</td>\n",
       "      <td>4.0</td>\n",
       "      <td>Oh happy day, finally have a Canes near my cas...</td>\n",
       "    </tr>\n",
       "  </tbody>\n",
       "</table>\n",
       "</div>"
      ],
      "text/plain": [
       "                  user_id             business_id  user_rating  \\\n",
       "0  OwjRMXRC0KyPrIlcjaXeFQ  -MhfebM0QIsKt87iDN-FNw          2.0   \n",
       "1  nIJD_7ZXHq-FX8byPMOkMQ  lbrU8StCq3yDfr-QMnGrmQ          1.0   \n",
       "2  V34qejxNsCbcgD8C0HVk-Q  HQl28KMwrEKHqhFrrDqVNQ          5.0   \n",
       "3  ofKDkJKXSKZXu5xJNGiiBQ  5JxlZaqCnk1MnbgRirs40Q          1.0   \n",
       "4  UgMW8bLE0QMJDCkQ1Ax5Mg  IS4cv902ykd8wj1TR0N3-A          4.0   \n",
       "\n",
       "                                                text  \n",
       "0  As someone who has worked with many museums, I...  \n",
       "1  I am actually horrified this place is still in...  \n",
       "2  I love Deagan's. I do. I really do. The atmosp...  \n",
       "3  Dismal, lukewarm, defrosted-tasting \"TexMex\" g...  \n",
       "4  Oh happy day, finally have a Canes near my cas...  "
      ]
     },
     "metadata": {},
     "output_type": "display_data"
    }
   ],
   "source": [
    "review = reviews[['user_id','business_id','stars','text']]\n",
    "review = review.rename(columns = {'stars':'user_rating'})\n",
    "display(review.head(5))"
   ]
  },
  {
   "cell_type": "markdown",
   "metadata": {},
   "source": [
    "Get number of users"
   ]
  },
  {
   "cell_type": "code",
   "execution_count": 12,
   "metadata": {},
   "outputs": [
    {
     "data": {
      "text/plain": [
       "1968703"
      ]
     },
     "execution_count": 12,
     "metadata": {},
     "output_type": "execute_result"
    }
   ],
   "source": [
    "review['user_id'].nunique()"
   ]
  },
  {
   "cell_type": "markdown",
   "metadata": {},
   "source": [
    "Inner merge with edited restaurant file & check data type"
   ]
  },
  {
   "cell_type": "code",
   "execution_count": 13,
   "metadata": {},
   "outputs": [
    {
     "name": "stdout",
     "output_type": "stream",
     "text": [
      "Merged dataset loaded. Count = 4222976\n",
      "<class 'pandas.core.frame.DataFrame'>\n"
     ]
    }
   ],
   "source": [
    "merged = pd.merge(restaurant, review, on = 'business_id', how = 'inner')\n",
    "print('Merged dataset loaded. Count = {}'.format(merged.shape[0]))\n",
    "print(type(merged))"
   ]
  },
  {
   "cell_type": "markdown",
   "metadata": {},
   "source": [
    "Top 10 number of reviews by city"
   ]
  },
  {
   "cell_type": "code",
   "execution_count": 14,
   "metadata": {},
   "outputs": [
    {
     "data": {
      "text/plain": [
       "city\n",
       "Las Vegas     1253572\n",
       "Phoenix        431877\n",
       "Toronto        338328\n",
       "Scottsdale     223350\n",
       "Charlotte      220241\n",
       "Pittsburgh     162549\n",
       "Henderson      118805\n",
       "Tempe          118052\n",
       "Montr茅al       115659\n",
       "Mesa            94982\n",
       "dtype: int64"
      ]
     },
     "execution_count": 14,
     "metadata": {},
     "output_type": "execute_result"
    }
   ],
   "source": [
    "merged.groupby(['city']).size().nlargest(10)"
   ]
  },
  {
   "cell_type": "markdown",
   "metadata": {},
   "source": [
    "Limit the range to Toronto, then remove 'city' column"
   ]
  },
  {
   "cell_type": "code",
   "execution_count": 15,
   "metadata": {
    "scrolled": true
   },
   "outputs": [
    {
     "name": "stdout",
     "output_type": "stream",
     "text": [
      "Cleaned dataset loaded. Count = 338363\n"
     ]
    },
    {
     "data": {
      "text/html": [
       "<div>\n",
       "<style scoped>\n",
       "    .dataframe tbody tr th:only-of-type {\n",
       "        vertical-align: middle;\n",
       "    }\n",
       "\n",
       "    .dataframe tbody tr th {\n",
       "        vertical-align: top;\n",
       "    }\n",
       "\n",
       "    .dataframe thead th {\n",
       "        text-align: right;\n",
       "    }\n",
       "</style>\n",
       "<table border=\"1\" class=\"dataframe\">\n",
       "  <thead>\n",
       "    <tr style=\"text-align: right;\">\n",
       "      <th></th>\n",
       "      <th>business_id</th>\n",
       "      <th>name</th>\n",
       "      <th>address</th>\n",
       "      <th>latitude</th>\n",
       "      <th>longitude</th>\n",
       "      <th>stars</th>\n",
       "      <th>categories</th>\n",
       "      <th>user_id</th>\n",
       "      <th>user_rating</th>\n",
       "      <th>text</th>\n",
       "    </tr>\n",
       "  </thead>\n",
       "  <tbody>\n",
       "    <tr>\n",
       "      <th>120</th>\n",
       "      <td>0QjROMVW9ACKjhSEfHqNCQ</td>\n",
       "      <td>Mi Mi Restaurant</td>\n",
       "      <td>688 Gerrard Street E</td>\n",
       "      <td>43.666376</td>\n",
       "      <td>-79.348773</td>\n",
       "      <td>4.0</td>\n",
       "      <td>Vietnamese, Restaurants</td>\n",
       "      <td>aAd2DWIgvVLc2TeU8yve9A</td>\n",
       "      <td>5.0</td>\n",
       "      <td>Delicious delicous declicous!! It is my go-to ...</td>\n",
       "    </tr>\n",
       "    <tr>\n",
       "      <th>121</th>\n",
       "      <td>0QjROMVW9ACKjhSEfHqNCQ</td>\n",
       "      <td>Mi Mi Restaurant</td>\n",
       "      <td>688 Gerrard Street E</td>\n",
       "      <td>43.666376</td>\n",
       "      <td>-79.348773</td>\n",
       "      <td>4.0</td>\n",
       "      <td>Vietnamese, Restaurants</td>\n",
       "      <td>Zr535e3501Ygs4hO5hO05Q</td>\n",
       "      <td>4.0</td>\n",
       "      <td>As a Vietnamese person, I highly recommend thi...</td>\n",
       "    </tr>\n",
       "    <tr>\n",
       "      <th>122</th>\n",
       "      <td>0QjROMVW9ACKjhSEfHqNCQ</td>\n",
       "      <td>Mi Mi Restaurant</td>\n",
       "      <td>688 Gerrard Street E</td>\n",
       "      <td>43.666376</td>\n",
       "      <td>-79.348773</td>\n",
       "      <td>4.0</td>\n",
       "      <td>Vietnamese, Restaurants</td>\n",
       "      <td>20xtru4h_7TjFn4lSHmSsg</td>\n",
       "      <td>5.0</td>\n",
       "      <td>Been going to Mi Mi Restaurant for years! I lo...</td>\n",
       "    </tr>\n",
       "    <tr>\n",
       "      <th>123</th>\n",
       "      <td>0QjROMVW9ACKjhSEfHqNCQ</td>\n",
       "      <td>Mi Mi Restaurant</td>\n",
       "      <td>688 Gerrard Street E</td>\n",
       "      <td>43.666376</td>\n",
       "      <td>-79.348773</td>\n",
       "      <td>4.0</td>\n",
       "      <td>Vietnamese, Restaurants</td>\n",
       "      <td>wh9v2dIpOxm6W2mwoEnvPg</td>\n",
       "      <td>5.0</td>\n",
       "      <td>Our go-to place for Vietnamese food! This plac...</td>\n",
       "    </tr>\n",
       "    <tr>\n",
       "      <th>124</th>\n",
       "      <td>0QjROMVW9ACKjhSEfHqNCQ</td>\n",
       "      <td>Mi Mi Restaurant</td>\n",
       "      <td>688 Gerrard Street E</td>\n",
       "      <td>43.666376</td>\n",
       "      <td>-79.348773</td>\n",
       "      <td>4.0</td>\n",
       "      <td>Vietnamese, Restaurants</td>\n",
       "      <td>222kqiACWSwnpcxC0AaxFA</td>\n",
       "      <td>5.0</td>\n",
       "      <td>I honestly think that anyone would enjoy food ...</td>\n",
       "    </tr>\n",
       "    <tr>\n",
       "      <th>125</th>\n",
       "      <td>0QjROMVW9ACKjhSEfHqNCQ</td>\n",
       "      <td>Mi Mi Restaurant</td>\n",
       "      <td>688 Gerrard Street E</td>\n",
       "      <td>43.666376</td>\n",
       "      <td>-79.348773</td>\n",
       "      <td>4.0</td>\n",
       "      <td>Vietnamese, Restaurants</td>\n",
       "      <td>90B8GzGsz6fcgry_LFN4ug</td>\n",
       "      <td>5.0</td>\n",
       "      <td>Good Day to all reading my review of Mimi's Th...</td>\n",
       "    </tr>\n",
       "    <tr>\n",
       "      <th>126</th>\n",
       "      <td>0QjROMVW9ACKjhSEfHqNCQ</td>\n",
       "      <td>Mi Mi Restaurant</td>\n",
       "      <td>688 Gerrard Street E</td>\n",
       "      <td>43.666376</td>\n",
       "      <td>-79.348773</td>\n",
       "      <td>4.0</td>\n",
       "      <td>Vietnamese, Restaurants</td>\n",
       "      <td>2Va8pKWQLi4CtkrFY8an8A</td>\n",
       "      <td>4.0</td>\n",
       "      <td>the bun and fish sauce were awesome.\\nthe pho ...</td>\n",
       "    </tr>\n",
       "    <tr>\n",
       "      <th>127</th>\n",
       "      <td>0QjROMVW9ACKjhSEfHqNCQ</td>\n",
       "      <td>Mi Mi Restaurant</td>\n",
       "      <td>688 Gerrard Street E</td>\n",
       "      <td>43.666376</td>\n",
       "      <td>-79.348773</td>\n",
       "      <td>4.0</td>\n",
       "      <td>Vietnamese, Restaurants</td>\n",
       "      <td>jZrbuGRk92uWTu5kHbnDXQ</td>\n",
       "      <td>4.0</td>\n",
       "      <td>Nice service. Ordered vermicelli grilled pork,...</td>\n",
       "    </tr>\n",
       "    <tr>\n",
       "      <th>128</th>\n",
       "      <td>0QjROMVW9ACKjhSEfHqNCQ</td>\n",
       "      <td>Mi Mi Restaurant</td>\n",
       "      <td>688 Gerrard Street E</td>\n",
       "      <td>43.666376</td>\n",
       "      <td>-79.348773</td>\n",
       "      <td>4.0</td>\n",
       "      <td>Vietnamese, Restaurants</td>\n",
       "      <td>UPvMHM1FJdfxiYJPJ-8J4w</td>\n",
       "      <td>5.0</td>\n",
       "      <td>Best BBQ chicken and pork on rice, and nice se...</td>\n",
       "    </tr>\n",
       "    <tr>\n",
       "      <th>129</th>\n",
       "      <td>0QjROMVW9ACKjhSEfHqNCQ</td>\n",
       "      <td>Mi Mi Restaurant</td>\n",
       "      <td>688 Gerrard Street E</td>\n",
       "      <td>43.666376</td>\n",
       "      <td>-79.348773</td>\n",
       "      <td>4.0</td>\n",
       "      <td>Vietnamese, Restaurants</td>\n",
       "      <td>Omhu17Pu7pGbO7KjbYLj1A</td>\n",
       "      <td>3.0</td>\n",
       "      <td>ordered a rice dish. the bbq pork chop and bon...</td>\n",
       "    </tr>\n",
       "  </tbody>\n",
       "</table>\n",
       "</div>"
      ],
      "text/plain": [
       "                business_id              name               address  \\\n",
       "120  0QjROMVW9ACKjhSEfHqNCQ  Mi Mi Restaurant  688 Gerrard Street E   \n",
       "121  0QjROMVW9ACKjhSEfHqNCQ  Mi Mi Restaurant  688 Gerrard Street E   \n",
       "122  0QjROMVW9ACKjhSEfHqNCQ  Mi Mi Restaurant  688 Gerrard Street E   \n",
       "123  0QjROMVW9ACKjhSEfHqNCQ  Mi Mi Restaurant  688 Gerrard Street E   \n",
       "124  0QjROMVW9ACKjhSEfHqNCQ  Mi Mi Restaurant  688 Gerrard Street E   \n",
       "125  0QjROMVW9ACKjhSEfHqNCQ  Mi Mi Restaurant  688 Gerrard Street E   \n",
       "126  0QjROMVW9ACKjhSEfHqNCQ  Mi Mi Restaurant  688 Gerrard Street E   \n",
       "127  0QjROMVW9ACKjhSEfHqNCQ  Mi Mi Restaurant  688 Gerrard Street E   \n",
       "128  0QjROMVW9ACKjhSEfHqNCQ  Mi Mi Restaurant  688 Gerrard Street E   \n",
       "129  0QjROMVW9ACKjhSEfHqNCQ  Mi Mi Restaurant  688 Gerrard Street E   \n",
       "\n",
       "      latitude  longitude  stars               categories  \\\n",
       "120  43.666376 -79.348773    4.0  Vietnamese, Restaurants   \n",
       "121  43.666376 -79.348773    4.0  Vietnamese, Restaurants   \n",
       "122  43.666376 -79.348773    4.0  Vietnamese, Restaurants   \n",
       "123  43.666376 -79.348773    4.0  Vietnamese, Restaurants   \n",
       "124  43.666376 -79.348773    4.0  Vietnamese, Restaurants   \n",
       "125  43.666376 -79.348773    4.0  Vietnamese, Restaurants   \n",
       "126  43.666376 -79.348773    4.0  Vietnamese, Restaurants   \n",
       "127  43.666376 -79.348773    4.0  Vietnamese, Restaurants   \n",
       "128  43.666376 -79.348773    4.0  Vietnamese, Restaurants   \n",
       "129  43.666376 -79.348773    4.0  Vietnamese, Restaurants   \n",
       "\n",
       "                    user_id  user_rating  \\\n",
       "120  aAd2DWIgvVLc2TeU8yve9A          5.0   \n",
       "121  Zr535e3501Ygs4hO5hO05Q          4.0   \n",
       "122  20xtru4h_7TjFn4lSHmSsg          5.0   \n",
       "123  wh9v2dIpOxm6W2mwoEnvPg          5.0   \n",
       "124  222kqiACWSwnpcxC0AaxFA          5.0   \n",
       "125  90B8GzGsz6fcgry_LFN4ug          5.0   \n",
       "126  2Va8pKWQLi4CtkrFY8an8A          4.0   \n",
       "127  jZrbuGRk92uWTu5kHbnDXQ          4.0   \n",
       "128  UPvMHM1FJdfxiYJPJ-8J4w          5.0   \n",
       "129  Omhu17Pu7pGbO7KjbYLj1A          3.0   \n",
       "\n",
       "                                                  text  \n",
       "120  Delicious delicous declicous!! It is my go-to ...  \n",
       "121  As a Vietnamese person, I highly recommend thi...  \n",
       "122  Been going to Mi Mi Restaurant for years! I lo...  \n",
       "123  Our go-to place for Vietnamese food! This plac...  \n",
       "124  I honestly think that anyone would enjoy food ...  \n",
       "125  Good Day to all reading my review of Mimi's Th...  \n",
       "126  the bun and fish sauce were awesome.\\nthe pho ...  \n",
       "127  Nice service. Ordered vermicelli grilled pork,...  \n",
       "128  Best BBQ chicken and pork on rice, and nice se...  \n",
       "129  ordered a rice dish. the bbq pork chop and bon...  "
      ]
     },
     "execution_count": 15,
     "metadata": {},
     "output_type": "execute_result"
    }
   ],
   "source": [
    "cleaned = merged[merged.city.str.contains('toronto', case=False, na=False)]\n",
    "print('Cleaned dataset loaded. Count = {}'.format(cleaned.shape[0]))\n",
    "drop_cols = ['city']\n",
    "cleaned= cleaned.drop(drop_cols, axis = 1)\n",
    "cleaned.head(10)"
   ]
  },
  {
   "cell_type": "markdown",
   "metadata": {},
   "source": [
    "As the final cleaning up of the dataset, Null, NA, and duplicate values will be checked and removed. \n",
    "\n",
    "Recommender systems have a problem known as user cold-start, in which is hard do provide personalized recommendations for users with none or a very few number of consumed items, due to the lack of information to model their preferences. For this reason, we are keeping in the dataset only users with at least 5 reviews."
   ]
  },
  {
   "cell_type": "code",
   "execution_count": 16,
   "metadata": {},
   "outputs": [
    {
     "data": {
      "text/html": [
       "<div>\n",
       "<style scoped>\n",
       "    .dataframe tbody tr th:only-of-type {\n",
       "        vertical-align: middle;\n",
       "    }\n",
       "\n",
       "    .dataframe tbody tr th {\n",
       "        vertical-align: top;\n",
       "    }\n",
       "\n",
       "    .dataframe thead th {\n",
       "        text-align: right;\n",
       "    }\n",
       "</style>\n",
       "<table border=\"1\" class=\"dataframe\">\n",
       "  <thead>\n",
       "    <tr style=\"text-align: right;\">\n",
       "      <th></th>\n",
       "      <th>business_id</th>\n",
       "      <th>name</th>\n",
       "      <th>address</th>\n",
       "      <th>latitude</th>\n",
       "      <th>longitude</th>\n",
       "      <th>stars</th>\n",
       "      <th>categories</th>\n",
       "      <th>user_id</th>\n",
       "      <th>user_rating</th>\n",
       "      <th>text</th>\n",
       "    </tr>\n",
       "  </thead>\n",
       "  <tbody>\n",
       "    <tr>\n",
       "      <th>121</th>\n",
       "      <td>0QjROMVW9ACKjhSEfHqNCQ</td>\n",
       "      <td>Mi Mi Restaurant</td>\n",
       "      <td>688 Gerrard Street E</td>\n",
       "      <td>43.666376</td>\n",
       "      <td>-79.348773</td>\n",
       "      <td>4.0</td>\n",
       "      <td>Vietnamese, Restaurants</td>\n",
       "      <td>Zr535e3501Ygs4hO5hO05Q</td>\n",
       "      <td>4.0</td>\n",
       "      <td>As a Vietnamese person, I highly recommend thi...</td>\n",
       "    </tr>\n",
       "    <tr>\n",
       "      <th>122</th>\n",
       "      <td>0QjROMVW9ACKjhSEfHqNCQ</td>\n",
       "      <td>Mi Mi Restaurant</td>\n",
       "      <td>688 Gerrard Street E</td>\n",
       "      <td>43.666376</td>\n",
       "      <td>-79.348773</td>\n",
       "      <td>4.0</td>\n",
       "      <td>Vietnamese, Restaurants</td>\n",
       "      <td>20xtru4h_7TjFn4lSHmSsg</td>\n",
       "      <td>5.0</td>\n",
       "      <td>Been going to Mi Mi Restaurant for years! I lo...</td>\n",
       "    </tr>\n",
       "    <tr>\n",
       "      <th>124</th>\n",
       "      <td>0QjROMVW9ACKjhSEfHqNCQ</td>\n",
       "      <td>Mi Mi Restaurant</td>\n",
       "      <td>688 Gerrard Street E</td>\n",
       "      <td>43.666376</td>\n",
       "      <td>-79.348773</td>\n",
       "      <td>4.0</td>\n",
       "      <td>Vietnamese, Restaurants</td>\n",
       "      <td>222kqiACWSwnpcxC0AaxFA</td>\n",
       "      <td>5.0</td>\n",
       "      <td>I honestly think that anyone would enjoy food ...</td>\n",
       "    </tr>\n",
       "    <tr>\n",
       "      <th>125</th>\n",
       "      <td>0QjROMVW9ACKjhSEfHqNCQ</td>\n",
       "      <td>Mi Mi Restaurant</td>\n",
       "      <td>688 Gerrard Street E</td>\n",
       "      <td>43.666376</td>\n",
       "      <td>-79.348773</td>\n",
       "      <td>4.0</td>\n",
       "      <td>Vietnamese, Restaurants</td>\n",
       "      <td>90B8GzGsz6fcgry_LFN4ug</td>\n",
       "      <td>5.0</td>\n",
       "      <td>Good Day to all reading my review of Mimi's Th...</td>\n",
       "    </tr>\n",
       "    <tr>\n",
       "      <th>126</th>\n",
       "      <td>0QjROMVW9ACKjhSEfHqNCQ</td>\n",
       "      <td>Mi Mi Restaurant</td>\n",
       "      <td>688 Gerrard Street E</td>\n",
       "      <td>43.666376</td>\n",
       "      <td>-79.348773</td>\n",
       "      <td>4.0</td>\n",
       "      <td>Vietnamese, Restaurants</td>\n",
       "      <td>2Va8pKWQLi4CtkrFY8an8A</td>\n",
       "      <td>4.0</td>\n",
       "      <td>the bun and fish sauce were awesome.\\nthe pho ...</td>\n",
       "    </tr>\n",
       "  </tbody>\n",
       "</table>\n",
       "</div>"
      ],
      "text/plain": [
       "                business_id              name               address  \\\n",
       "121  0QjROMVW9ACKjhSEfHqNCQ  Mi Mi Restaurant  688 Gerrard Street E   \n",
       "122  0QjROMVW9ACKjhSEfHqNCQ  Mi Mi Restaurant  688 Gerrard Street E   \n",
       "124  0QjROMVW9ACKjhSEfHqNCQ  Mi Mi Restaurant  688 Gerrard Street E   \n",
       "125  0QjROMVW9ACKjhSEfHqNCQ  Mi Mi Restaurant  688 Gerrard Street E   \n",
       "126  0QjROMVW9ACKjhSEfHqNCQ  Mi Mi Restaurant  688 Gerrard Street E   \n",
       "\n",
       "      latitude  longitude  stars               categories  \\\n",
       "121  43.666376 -79.348773    4.0  Vietnamese, Restaurants   \n",
       "122  43.666376 -79.348773    4.0  Vietnamese, Restaurants   \n",
       "124  43.666376 -79.348773    4.0  Vietnamese, Restaurants   \n",
       "125  43.666376 -79.348773    4.0  Vietnamese, Restaurants   \n",
       "126  43.666376 -79.348773    4.0  Vietnamese, Restaurants   \n",
       "\n",
       "                    user_id  user_rating  \\\n",
       "121  Zr535e3501Ygs4hO5hO05Q          4.0   \n",
       "122  20xtru4h_7TjFn4lSHmSsg          5.0   \n",
       "124  222kqiACWSwnpcxC0AaxFA          5.0   \n",
       "125  90B8GzGsz6fcgry_LFN4ug          5.0   \n",
       "126  2Va8pKWQLi4CtkrFY8an8A          4.0   \n",
       "\n",
       "                                                  text  \n",
       "121  As a Vietnamese person, I highly recommend thi...  \n",
       "122  Been going to Mi Mi Restaurant for years! I lo...  \n",
       "124  I honestly think that anyone would enjoy food ...  \n",
       "125  Good Day to all reading my review of Mimi's Th...  \n",
       "126  the bun and fish sauce were awesome.\\nthe pho ...  "
      ]
     },
     "execution_count": 16,
     "metadata": {},
     "output_type": "execute_result"
    }
   ],
   "source": [
    "# keep users with more than 1 reviews\n",
    "cleaned_df = cleaned[cleaned.groupby('user_id').user_id.transform(len) > 4]\n",
    "cleaned_df.head()"
   ]
  },
  {
   "cell_type": "code",
   "execution_count": 17,
   "metadata": {},
   "outputs": [
    {
     "data": {
      "text/plain": [
       "business_id    0\n",
       "name           0\n",
       "address        0\n",
       "latitude       0\n",
       "longitude      0\n",
       "stars          0\n",
       "categories     0\n",
       "user_id        0\n",
       "user_rating    0\n",
       "text           0\n",
       "dtype: int64"
      ]
     },
     "execution_count": 17,
     "metadata": {},
     "output_type": "execute_result"
    }
   ],
   "source": [
    "# Check missing values\n",
    "cleaned_df.isnull().sum()"
   ]
  },
  {
   "cell_type": "code",
   "execution_count": 18,
   "metadata": {},
   "outputs": [
    {
     "data": {
      "text/plain": [
       "business_id    0\n",
       "name           0\n",
       "address        0\n",
       "latitude       0\n",
       "longitude      0\n",
       "stars          0\n",
       "categories     0\n",
       "user_id        0\n",
       "user_rating    0\n",
       "text           0\n",
       "dtype: int64"
      ]
     },
     "execution_count": 18,
     "metadata": {},
     "output_type": "execute_result"
    }
   ],
   "source": [
    "cleaned_df.isna().sum()"
   ]
  },
  {
   "cell_type": "code",
   "execution_count": 19,
   "metadata": {},
   "outputs": [
    {
     "data": {
      "text/html": [
       "<div>\n",
       "<style scoped>\n",
       "    .dataframe tbody tr th:only-of-type {\n",
       "        vertical-align: middle;\n",
       "    }\n",
       "\n",
       "    .dataframe tbody tr th {\n",
       "        vertical-align: top;\n",
       "    }\n",
       "\n",
       "    .dataframe thead th {\n",
       "        text-align: right;\n",
       "    }\n",
       "</style>\n",
       "<table border=\"1\" class=\"dataframe\">\n",
       "  <thead>\n",
       "    <tr style=\"text-align: right;\">\n",
       "      <th></th>\n",
       "      <th>business_id</th>\n",
       "      <th>name</th>\n",
       "      <th>address</th>\n",
       "      <th>latitude</th>\n",
       "      <th>longitude</th>\n",
       "      <th>stars</th>\n",
       "      <th>categories</th>\n",
       "      <th>user_id</th>\n",
       "      <th>user_rating</th>\n",
       "      <th>text</th>\n",
       "    </tr>\n",
       "  </thead>\n",
       "  <tbody>\n",
       "    <tr>\n",
       "      <th>59050</th>\n",
       "      <td>ZpPOiNYi4AHNneI7uco7GQ</td>\n",
       "      <td>McSorley's Wonderful Saloon &amp; Grill</td>\n",
       "      <td>1544 Bayview Avenue</td>\n",
       "      <td>43.704737</td>\n",
       "      <td>-79.375121</td>\n",
       "      <td>3.5</td>\n",
       "      <td>Sports Bars, American (Traditional), Bars, Pub...</td>\n",
       "      <td>jpwc87McTVFCb3r6hI9igQ</td>\n",
       "      <td>4.0</td>\n",
       "      <td>Good nite at Mcsorleys. Easy. Good food &amp; Serv...</td>\n",
       "    </tr>\n",
       "    <tr>\n",
       "      <th>78760</th>\n",
       "      <td>Gc8xWVpbUlBYHAoOT9MTyQ</td>\n",
       "      <td>La Cubana</td>\n",
       "      <td>92 Ossington Avenue</td>\n",
       "      <td>43.646208</td>\n",
       "      <td>-79.419674</td>\n",
       "      <td>4.0</td>\n",
       "      <td>Sandwiches, Desserts, Food, Cuban, Restaurants</td>\n",
       "      <td>mnJvynzRIYptrjyKtEBiTA</td>\n",
       "      <td>5.0</td>\n",
       "      <td>Comfort food and I'm not even Latin. There's n...</td>\n",
       "    </tr>\n",
       "    <tr>\n",
       "      <th>88355</th>\n",
       "      <td>vnKHXrw585IOH4F3m29yFQ</td>\n",
       "      <td>Milagro</td>\n",
       "      <td>783 Queen St W</td>\n",
       "      <td>43.646126</td>\n",
       "      <td>-79.408170</td>\n",
       "      <td>3.5</td>\n",
       "      <td>Mexican, Restaurants, Local Flavor, Latin Amer...</td>\n",
       "      <td>_SadovtH8RAjtQL4D6Jczw</td>\n",
       "      <td>5.0</td>\n",
       "      <td>Home run ! Top notch Service, food and atmosph...</td>\n",
       "    </tr>\n",
       "    <tr>\n",
       "      <th>92894</th>\n",
       "      <td>OQ9rVtBEFFI4jkdEo9AoRg</td>\n",
       "      <td>Loons Restaurant &amp; Pub</td>\n",
       "      <td>416 Roncesvalles Avenue</td>\n",
       "      <td>43.651730</td>\n",
       "      <td>-79.451260</td>\n",
       "      <td>3.0</td>\n",
       "      <td>Restaurants, Bars, American (Traditional), Nig...</td>\n",
       "      <td>hFSC_uJBy-iOlTnmv1hZyw</td>\n",
       "      <td>5.0</td>\n",
       "      <td>Amazing pub it's one of the best in the roncie...</td>\n",
       "    </tr>\n",
       "    <tr>\n",
       "      <th>97318</th>\n",
       "      <td>fUOY7g6JcO0m3iZNfK0O0g</td>\n",
       "      <td>Injapan</td>\n",
       "      <td>124 Atlantic Avenue</td>\n",
       "      <td>43.639731</td>\n",
       "      <td>-79.421297</td>\n",
       "      <td>3.5</td>\n",
       "      <td>Restaurants, Sushi Bars, Japanese</td>\n",
       "      <td>BwaodS7fFDWrOZF32KtnHA</td>\n",
       "      <td>5.0</td>\n",
       "      <td>Every single time I get sushi here it is FRESH...</td>\n",
       "    </tr>\n",
       "    <tr>\n",
       "      <th>124317</th>\n",
       "      <td>QX5Y_BIxlMG3B3vV1zx1Gw</td>\n",
       "      <td>Cherry Street Bar-B-Que</td>\n",
       "      <td>275 Cherry Street</td>\n",
       "      <td>43.645599</td>\n",
       "      <td>-79.352298</td>\n",
       "      <td>4.0</td>\n",
       "      <td>Restaurants, Barbeque</td>\n",
       "      <td>ky0Emup8gpdj2IJrgq9CKg</td>\n",
       "      <td>5.0</td>\n",
       "      <td>Yum.... truly the best BBQ I've had in the cit...</td>\n",
       "    </tr>\n",
       "    <tr>\n",
       "      <th>172315</th>\n",
       "      <td>qQsrcouREdFUk4adim1uEA</td>\n",
       "      <td>Mamajoun Armenian Pizzeria</td>\n",
       "      <td>209 Ellesmere Road, Unit 6</td>\n",
       "      <td>43.760297</td>\n",
       "      <td>-79.302782</td>\n",
       "      <td>4.5</td>\n",
       "      <td>Bakeries, Pizza, Restaurants, Sandwiches, Fast...</td>\n",
       "      <td>eV5usRjY2cDqNKVv8wXroA</td>\n",
       "      <td>3.0</td>\n",
       "      <td>I've eaten here a couple of times now and I'm ...</td>\n",
       "    </tr>\n",
       "    <tr>\n",
       "      <th>177063</th>\n",
       "      <td>28adZ4lsuUeVB2aWzohK9g</td>\n",
       "      <td>Prohibition Gastrohouse - Queen</td>\n",
       "      <td>696 Queen Street E</td>\n",
       "      <td>43.658895</td>\n",
       "      <td>-79.350384</td>\n",
       "      <td>3.5</td>\n",
       "      <td>Bars, Food, Gastropubs, Pubs, Beer, Wine &amp; Spi...</td>\n",
       "      <td>9y3nfjP4lQVTh3k0enxojA</td>\n",
       "      <td>3.0</td>\n",
       "      <td>These guys have a solid place. They were final...</td>\n",
       "    </tr>\n",
       "    <tr>\n",
       "      <th>197543</th>\n",
       "      <td>h_4dPV9M9aYaBliH1Eoeeg</td>\n",
       "      <td>Wvrst</td>\n",
       "      <td>609 King Street W</td>\n",
       "      <td>43.644186</td>\n",
       "      <td>-79.401015</td>\n",
       "      <td>4.0</td>\n",
       "      <td>Canadian (New), Nightlife, Pubs, Restaurants, ...</td>\n",
       "      <td>tVR1J5N9NJLLl2j1eFFdFA</td>\n",
       "      <td>4.0</td>\n",
       "      <td>I had the Oktoberfest sausage and duck fat fri...</td>\n",
       "    </tr>\n",
       "    <tr>\n",
       "      <th>237456</th>\n",
       "      <td>JtrBa5-T6QLXv3y5_ACTkg</td>\n",
       "      <td>Doo Roo Ae</td>\n",
       "      <td>659 Bloor Street  West</td>\n",
       "      <td>43.664074</td>\n",
       "      <td>-79.415611</td>\n",
       "      <td>4.0</td>\n",
       "      <td>Korean, Restaurants</td>\n",
       "      <td>G21DPskg74y68OGesZE--Q</td>\n",
       "      <td>5.0</td>\n",
       "      <td>The bbq is really good and the price is perfec...</td>\n",
       "    </tr>\n",
       "    <tr>\n",
       "      <th>238796</th>\n",
       "      <td>ijjuLKQ-h2esqrF7vnG-bw</td>\n",
       "      <td>Pi Co</td>\n",
       "      <td>2177 Yonge Street</td>\n",
       "      <td>43.705177</td>\n",
       "      <td>-79.397814</td>\n",
       "      <td>3.5</td>\n",
       "      <td>Restaurants, Pizza</td>\n",
       "      <td>kQS5nlADm9f4nqFp0xAJtg</td>\n",
       "      <td>4.0</td>\n",
       "      <td>I would rate this place as 4 stars, though my ...</td>\n",
       "    </tr>\n",
       "    <tr>\n",
       "      <th>253759</th>\n",
       "      <td>sCPNcNxYuTnTdlAZohMyQg</td>\n",
       "      <td>Museum Tavern</td>\n",
       "      <td>208 Bloor Street W</td>\n",
       "      <td>43.668524</td>\n",
       "      <td>-79.395851</td>\n",
       "      <td>3.5</td>\n",
       "      <td>American (Traditional), Restaurants</td>\n",
       "      <td>YYFNC8rhHP440AmNeE996w</td>\n",
       "      <td>5.0</td>\n",
       "      <td>Close to where we live. Always a great experie...</td>\n",
       "    </tr>\n",
       "    <tr>\n",
       "      <th>276811</th>\n",
       "      <td>dvbcUnKv2awsIxog7dO4vw</td>\n",
       "      <td>Hong Kong Bistro Cafe</td>\n",
       "      <td>472 Dundas Street W</td>\n",
       "      <td>43.653445</td>\n",
       "      <td>-79.396861</td>\n",
       "      <td>4.0</td>\n",
       "      <td>Cafes, Chinese, Restaurants</td>\n",
       "      <td>hgF6unS2-Ry4TjB1Dy00IQ</td>\n",
       "      <td>4.0</td>\n",
       "      <td>Hong Kong Harbour Bistro Cafe, otherwise known...</td>\n",
       "    </tr>\n",
       "    <tr>\n",
       "      <th>290270</th>\n",
       "      <td>uPa5hrWmHm0n1l4MSyVMGQ</td>\n",
       "      <td>Aloette</td>\n",
       "      <td>163 Spadina Avenue, 1st Floor</td>\n",
       "      <td>43.648539</td>\n",
       "      <td>-79.395937</td>\n",
       "      <td>4.5</td>\n",
       "      <td>Restaurants, Diners, French, Bistros</td>\n",
       "      <td>RdTqjxNJHP5JkVVcTfeK9w</td>\n",
       "      <td>3.0</td>\n",
       "      <td>I've been here a few times so I feel qualified...</td>\n",
       "    </tr>\n",
       "    <tr>\n",
       "      <th>312853</th>\n",
       "      <td>xjGmzH-oGoaoIMB4iDhSFA</td>\n",
       "      <td>Best Istanbul Restaurant</td>\n",
       "      <td>2762 Keele Street</td>\n",
       "      <td>43.726723</td>\n",
       "      <td>-79.482172</td>\n",
       "      <td>4.0</td>\n",
       "      <td>Turkish, Restaurants</td>\n",
       "      <td>aIg29snwGTFBzkV7HtDHfg</td>\n",
       "      <td>4.0</td>\n",
       "      <td>The first thing you'll notice when you walk in...</td>\n",
       "    </tr>\n",
       "    <tr>\n",
       "      <th>347181</th>\n",
       "      <td>QNfh79NwsNnl-AngRhg2ww</td>\n",
       "      <td>Kingyo</td>\n",
       "      <td>51B Winchester Street</td>\n",
       "      <td>43.665909</td>\n",
       "      <td>-79.368282</td>\n",
       "      <td>4.0</td>\n",
       "      <td>Japanese, Restaurants, Ramen, Tapas/Small Plates</td>\n",
       "      <td>Qi3wkwgenS5Wi98AMsPUMA</td>\n",
       "      <td>3.0</td>\n",
       "      <td>Great food but TOO MUCH YELLING. Very noisy! W...</td>\n",
       "    </tr>\n",
       "    <tr>\n",
       "      <th>347374</th>\n",
       "      <td>QNfh79NwsNnl-AngRhg2ww</td>\n",
       "      <td>Kingyo</td>\n",
       "      <td>51B Winchester Street</td>\n",
       "      <td>43.665909</td>\n",
       "      <td>-79.368282</td>\n",
       "      <td>4.0</td>\n",
       "      <td>Japanese, Restaurants, Ramen, Tapas/Small Plates</td>\n",
       "      <td>5CrVQeLzpMvKG1hfFEjb8Q</td>\n",
       "      <td>1.0</td>\n",
       "      <td>Used to be my go to place for lunch all the wa...</td>\n",
       "    </tr>\n",
       "    <tr>\n",
       "      <th>357663</th>\n",
       "      <td>HxSINQAplSFAn6of-wexcA</td>\n",
       "      <td>Nimman Thai Cuisine</td>\n",
       "      <td>2451 Lakeshore Boulevard W</td>\n",
       "      <td>43.613485</td>\n",
       "      <td>-79.489297</td>\n",
       "      <td>4.0</td>\n",
       "      <td>Thai, Restaurants</td>\n",
       "      <td>bVYgxUDOweDYhBjqNrd0LQ</td>\n",
       "      <td>3.0</td>\n",
       "      <td>First time here. The restaurant itself was pre...</td>\n",
       "    </tr>\n",
       "    <tr>\n",
       "      <th>359562</th>\n",
       "      <td>aT9jGDqTCvVjGjbYC969Rg</td>\n",
       "      <td>Sushi &amp; BBbop</td>\n",
       "      <td>Food Court At Aura, 384 Yonge Street, Unit 57</td>\n",
       "      <td>43.659602</td>\n",
       "      <td>-79.382670</td>\n",
       "      <td>4.5</td>\n",
       "      <td>Sushi Bars, Restaurants, Food Court, Korean, J...</td>\n",
       "      <td>ExP9VgOit5pFTnwisn3_3w</td>\n",
       "      <td>5.0</td>\n",
       "      <td>Great Korean food. Service here is excellent a...</td>\n",
       "    </tr>\n",
       "    <tr>\n",
       "      <th>397551</th>\n",
       "      <td>6j67nog58__bFPqd620Rrw</td>\n",
       "      <td>JJM Dbarkadz Filipino Cuisine</td>\n",
       "      <td>1217 Ellesmere Road</td>\n",
       "      <td>43.768305</td>\n",
       "      <td>-79.267784</td>\n",
       "      <td>4.0</td>\n",
       "      <td>Food, Restaurants, Filipino, Food Delivery Ser...</td>\n",
       "      <td>9EJPUru7ORXoCFF033zP7w</td>\n",
       "      <td>4.0</td>\n",
       "      <td>Came here for late lunch \\n.. had fried rice c...</td>\n",
       "    </tr>\n",
       "    <tr>\n",
       "      <th>400144</th>\n",
       "      <td>FBd6q_qzEFixvhV3KdzvJw</td>\n",
       "      <td>Riddle Room</td>\n",
       "      <td>579 Yonge Street, 2nd Floor</td>\n",
       "      <td>43.665756</td>\n",
       "      <td>-79.384705</td>\n",
       "      <td>4.5</td>\n",
       "      <td>Arcades, Food, Active Life, Arts &amp; Entertainme...</td>\n",
       "      <td>ScxUQO__rHh87Aql3Y30dw</td>\n",
       "      <td>2.0</td>\n",
       "      <td>Love it for the escape room but service and ma...</td>\n",
       "    </tr>\n",
       "    <tr>\n",
       "      <th>400243</th>\n",
       "      <td>FBd6q_qzEFixvhV3KdzvJw</td>\n",
       "      <td>Riddle Room</td>\n",
       "      <td>579 Yonge Street, 2nd Floor</td>\n",
       "      <td>43.665756</td>\n",
       "      <td>-79.384705</td>\n",
       "      <td>4.5</td>\n",
       "      <td>Arcades, Food, Active Life, Arts &amp; Entertainme...</td>\n",
       "      <td>b7l5ZDcKOFbm6zA71MQynw</td>\n",
       "      <td>5.0</td>\n",
       "      <td>Best escape room downtown (Dow score is the on...</td>\n",
       "    </tr>\n",
       "    <tr>\n",
       "      <th>432404</th>\n",
       "      <td>rhyjGfqYlCJoi8Zeulg6QA</td>\n",
       "      <td>Kimchi Korea House</td>\n",
       "      <td>149 Dundas Street W</td>\n",
       "      <td>43.655256</td>\n",
       "      <td>-79.385475</td>\n",
       "      <td>3.5</td>\n",
       "      <td>Restaurants, Korean</td>\n",
       "      <td>hJ1ODk_lPKZ9iJxlxTOqnA</td>\n",
       "      <td>4.0</td>\n",
       "      <td>My cousin and I each ordered a pork bibimbap. ...</td>\n",
       "    </tr>\n",
       "    <tr>\n",
       "      <th>432686</th>\n",
       "      <td>8cDP0mjK0J6lk292IeKRGg</td>\n",
       "      <td>Drupati's Doubles and Roti Shop</td>\n",
       "      <td>1085 Bellamy Road N</td>\n",
       "      <td>43.775496</td>\n",
       "      <td>-79.241903</td>\n",
       "      <td>3.5</td>\n",
       "      <td>Indian, Caribbean, Restaurants</td>\n",
       "      <td>2a9AwMvhbOnqHhYIC1acgw</td>\n",
       "      <td>4.0</td>\n",
       "      <td>My go to place. Food is delicious. I especiall...</td>\n",
       "    </tr>\n",
       "    <tr>\n",
       "      <th>432695</th>\n",
       "      <td>8cDP0mjK0J6lk292IeKRGg</td>\n",
       "      <td>Drupati's Doubles and Roti Shop</td>\n",
       "      <td>1085 Bellamy Road N</td>\n",
       "      <td>43.775496</td>\n",
       "      <td>-79.241903</td>\n",
       "      <td>3.5</td>\n",
       "      <td>Indian, Caribbean, Restaurants</td>\n",
       "      <td>y4-d_cKg_bPPtPnDP4XGKQ</td>\n",
       "      <td>2.0</td>\n",
       "      <td>I heard about Drupatis from multiple sources a...</td>\n",
       "    </tr>\n",
       "    <tr>\n",
       "      <th>490485</th>\n",
       "      <td>1PnHQEOXnxosKYhB86Ou7A</td>\n",
       "      <td>Freshii</td>\n",
       "      <td>43 Milner Ave</td>\n",
       "      <td>43.783743</td>\n",
       "      <td>-79.253186</td>\n",
       "      <td>3.0</td>\n",
       "      <td>Salad, Restaurants, Fast Food, Food, Poke, Veg...</td>\n",
       "      <td>YMOPqv7JHAsa4i6COh1FLg</td>\n",
       "      <td>4.0</td>\n",
       "      <td>I've gotten the bowls, burritos, soups, salads...</td>\n",
       "    </tr>\n",
       "    <tr>\n",
       "      <th>499839</th>\n",
       "      <td>WtA9dDDIMz-QESDSRnOYkw</td>\n",
       "      <td>Saigon Bistro</td>\n",
       "      <td>122 Atlantic Ave</td>\n",
       "      <td>43.639664</td>\n",
       "      <td>-79.421375</td>\n",
       "      <td>3.0</td>\n",
       "      <td>Vietnamese, Asian Fusion, Restaurants</td>\n",
       "      <td>4sGwJy5Oplz8QXLgD8dr2w</td>\n",
       "      <td>4.0</td>\n",
       "      <td>The food has gotten better.  Also with the new...</td>\n",
       "    </tr>\n",
       "    <tr>\n",
       "      <th>520513</th>\n",
       "      <td>fJ-2acaqvWOsujUTAJB-ew</td>\n",
       "      <td>Raijin Ramen</td>\n",
       "      <td>24 Wellesley Street W</td>\n",
       "      <td>43.664844</td>\n",
       "      <td>-79.385930</td>\n",
       "      <td>3.5</td>\n",
       "      <td>Ramen, Japanese, Restaurants, Noodles, Soup</td>\n",
       "      <td>EyVtVVwWmijNMJqBGQlv3Q</td>\n",
       "      <td>4.0</td>\n",
       "      <td>Atmosphere: quite spacious, I like how your no...</td>\n",
       "    </tr>\n",
       "    <tr>\n",
       "      <th>535493</th>\n",
       "      <td>FM0h7JHdthhnc50vgGWzpA</td>\n",
       "      <td>I'll Be Seeing You</td>\n",
       "      <td>747 Queen Street E</td>\n",
       "      <td>43.658993</td>\n",
       "      <td>-79.348074</td>\n",
       "      <td>5.0</td>\n",
       "      <td>Cocktail Bars, Bars, Comfort Food, Wine Bars, ...</td>\n",
       "      <td>KogQ2EZkGT91ONJLEIJXrw</td>\n",
       "      <td>5.0</td>\n",
       "      <td>I go for the nachos and stay for the disappear...</td>\n",
       "    </tr>\n",
       "    <tr>\n",
       "      <th>587043</th>\n",
       "      <td>xwmwTpzw9XSwK-UT5Ka3HQ</td>\n",
       "      <td>Bellwoods Brewery</td>\n",
       "      <td>124-126 Ossington Avenue</td>\n",
       "      <td>43.647060</td>\n",
       "      <td>-79.420222</td>\n",
       "      <td>4.0</td>\n",
       "      <td>Restaurants, Canadian (New), Food, Breweries</td>\n",
       "      <td>6fhhovM-cf6L78jR-UgTIw</td>\n",
       "      <td>5.0</td>\n",
       "      <td>Great server, great liver mousse, great lCanad...</td>\n",
       "    </tr>\n",
       "    <tr>\n",
       "      <th>...</th>\n",
       "      <td>...</td>\n",
       "      <td>...</td>\n",
       "      <td>...</td>\n",
       "      <td>...</td>\n",
       "      <td>...</td>\n",
       "      <td>...</td>\n",
       "      <td>...</td>\n",
       "      <td>...</td>\n",
       "      <td>...</td>\n",
       "      <td>...</td>\n",
       "    </tr>\n",
       "    <tr>\n",
       "      <th>3906293</th>\n",
       "      <td>ALkOqlWODyxPg5VSp0HLrg</td>\n",
       "      <td>Zakkushi On Carlton</td>\n",
       "      <td>193 Carlton Street</td>\n",
       "      <td>43.663515</td>\n",
       "      <td>-79.370688</td>\n",
       "      <td>4.0</td>\n",
       "      <td>Restaurants, Japanese, Tapas Bars, Tapas/Small...</td>\n",
       "      <td>aOseJnydZYD8Og00vWylqg</td>\n",
       "      <td>5.0</td>\n",
       "      <td>Love everything about this place. The overall ...</td>\n",
       "    </tr>\n",
       "    <tr>\n",
       "      <th>3953502</th>\n",
       "      <td>2Q89PhkcyT9uZnQORmqMKg</td>\n",
       "      <td>House of Gourmet</td>\n",
       "      <td>484 Dundas St W</td>\n",
       "      <td>43.653225</td>\n",
       "      <td>-79.397247</td>\n",
       "      <td>3.5</td>\n",
       "      <td>Restaurants, Chinese</td>\n",
       "      <td>3K45qlfaa36OQrTthHwJgQ</td>\n",
       "      <td>3.0</td>\n",
       "      <td>Very nice spacious seating arrangement. The se...</td>\n",
       "    </tr>\n",
       "    <tr>\n",
       "      <th>3961088</th>\n",
       "      <td>a3nywjjHRweFT-4rOap12g</td>\n",
       "      <td>Motimahal</td>\n",
       "      <td>1422 Gerrard St E</td>\n",
       "      <td>43.672355</td>\n",
       "      <td>-79.322660</td>\n",
       "      <td>3.5</td>\n",
       "      <td>Pakistani, Restaurants, Indian</td>\n",
       "      <td>pJ0Cl9UGCArCZ8wo1WEkSw</td>\n",
       "      <td>3.0</td>\n",
       "      <td>Delicious indian desserts. One sweet and stick...</td>\n",
       "    </tr>\n",
       "    <tr>\n",
       "      <th>3993193</th>\n",
       "      <td>7wduNBQUATNkaYzExyGJpg</td>\n",
       "      <td>Happy Congee</td>\n",
       "      <td>5661 Steeles Avenue East</td>\n",
       "      <td>43.831707</td>\n",
       "      <td>-79.264729</td>\n",
       "      <td>4.0</td>\n",
       "      <td>Restaurants, Chinese, Food Court, Comfort Food</td>\n",
       "      <td>8Dvr-U6jCZTVGD52LwC2qA</td>\n",
       "      <td>4.0</td>\n",
       "      <td>I swing by to pick up some veggies and meat to...</td>\n",
       "    </tr>\n",
       "    <tr>\n",
       "      <th>4020980</th>\n",
       "      <td>XYIPXJ9parr9FtvvcGI1SA</td>\n",
       "      <td>GB Hand-pulled Noodles</td>\n",
       "      <td>66 Edward Street</td>\n",
       "      <td>43.656755</td>\n",
       "      <td>-79.383725</td>\n",
       "      <td>4.0</td>\n",
       "      <td>Noodles, Chinese, Restaurants</td>\n",
       "      <td>fwEvXQZ1CwpDfLjW8lUDSg</td>\n",
       "      <td>5.0</td>\n",
       "      <td>The hand pulled noodles are as good as you can...</td>\n",
       "    </tr>\n",
       "    <tr>\n",
       "      <th>4021233</th>\n",
       "      <td>XYIPXJ9parr9FtvvcGI1SA</td>\n",
       "      <td>GB Hand-pulled Noodles</td>\n",
       "      <td>66 Edward Street</td>\n",
       "      <td>43.656755</td>\n",
       "      <td>-79.383725</td>\n",
       "      <td>4.0</td>\n",
       "      <td>Noodles, Chinese, Restaurants</td>\n",
       "      <td>4e4uA6fe4SigZ_RZo0r4QQ</td>\n",
       "      <td>1.0</td>\n",
       "      <td>Awful service attitude! When you walk in the p...</td>\n",
       "    </tr>\n",
       "    <tr>\n",
       "      <th>4021283</th>\n",
       "      <td>XYIPXJ9parr9FtvvcGI1SA</td>\n",
       "      <td>GB Hand-pulled Noodles</td>\n",
       "      <td>66 Edward Street</td>\n",
       "      <td>43.656755</td>\n",
       "      <td>-79.383725</td>\n",
       "      <td>4.0</td>\n",
       "      <td>Noodles, Chinese, Restaurants</td>\n",
       "      <td>RqtHfEPCmv6zLYn-o7pjoA</td>\n",
       "      <td>4.0</td>\n",
       "      <td>Visited this place for dinner and thoroughly e...</td>\n",
       "    </tr>\n",
       "    <tr>\n",
       "      <th>4022614</th>\n",
       "      <td>Vg4N2DsGrzzoam9jS1L3Wg</td>\n",
       "      <td>Johnny's Hamburgers</td>\n",
       "      <td>2595 Victoria Park Avenue</td>\n",
       "      <td>43.774878</td>\n",
       "      <td>-79.322278</td>\n",
       "      <td>3.5</td>\n",
       "      <td>Burgers, Restaurants</td>\n",
       "      <td>UKX0pDisY-QToCgzziykgg</td>\n",
       "      <td>5.0</td>\n",
       "      <td>Great burgers and fries and gravy.\\nReal ice c...</td>\n",
       "    </tr>\n",
       "    <tr>\n",
       "      <th>4023543</th>\n",
       "      <td>MC4becrrM9ntmnfMrD9b0g</td>\n",
       "      <td>Sushi Ichiban Ellesmere</td>\n",
       "      <td>80 Ellesmere Road, Unit 1</td>\n",
       "      <td>43.759218</td>\n",
       "      <td>-79.311134</td>\n",
       "      <td>4.0</td>\n",
       "      <td>Restaurants, Sushi Bars, Japanese</td>\n",
       "      <td>Ot6bXCHwUSlifCSZDlptMg</td>\n",
       "      <td>5.0</td>\n",
       "      <td>This place is fantastic!! Come here often for ...</td>\n",
       "    </tr>\n",
       "    <tr>\n",
       "      <th>4023895</th>\n",
       "      <td>LFxMt7Oi0vdsmZ3h_UBV-g</td>\n",
       "      <td>Nodo Restaurant</td>\n",
       "      <td>794 Saint Clair Avenue W</td>\n",
       "      <td>43.681011</td>\n",
       "      <td>-79.429799</td>\n",
       "      <td>4.5</td>\n",
       "      <td>Restaurants, Italian</td>\n",
       "      <td>Xma4LfYQLlygxJ9_D2oKVg</td>\n",
       "      <td>4.0</td>\n",
       "      <td>Came here on a Saturday night for a friends bi...</td>\n",
       "    </tr>\n",
       "    <tr>\n",
       "      <th>4032857</th>\n",
       "      <td>ik9VvawL-BeAqlxTI1leew</td>\n",
       "      <td>Gonoe Sushi</td>\n",
       "      <td>1310 Don Mills Road</td>\n",
       "      <td>43.745920</td>\n",
       "      <td>-79.346301</td>\n",
       "      <td>3.5</td>\n",
       "      <td>Sushi Bars, Japanese, Restaurants</td>\n",
       "      <td>3G1WTgJwKJxD0-t6RyQGQA</td>\n",
       "      <td>3.0</td>\n",
       "      <td>Overpriced food!!  The place was empty when we...</td>\n",
       "    </tr>\n",
       "    <tr>\n",
       "      <th>4034017</th>\n",
       "      <td>35SEr0cPTuoBJ1DYQ686pA</td>\n",
       "      <td>Katsuya</td>\n",
       "      <td>6048 Yonge Street</td>\n",
       "      <td>43.789922</td>\n",
       "      <td>-79.418460</td>\n",
       "      <td>4.5</td>\n",
       "      <td>Restaurants, Japanese, Asian Fusion</td>\n",
       "      <td>ZXae3RfkH1LnKX0UjXNj3Q</td>\n",
       "      <td>5.0</td>\n",
       "      <td>Best curry katsu in the city! Fresh, flavourfu...</td>\n",
       "    </tr>\n",
       "    <tr>\n",
       "      <th>4034049</th>\n",
       "      <td>35SEr0cPTuoBJ1DYQ686pA</td>\n",
       "      <td>Katsuya</td>\n",
       "      <td>6048 Yonge Street</td>\n",
       "      <td>43.789922</td>\n",
       "      <td>-79.418460</td>\n",
       "      <td>4.5</td>\n",
       "      <td>Restaurants, Japanese, Asian Fusion</td>\n",
       "      <td>ZXae3RfkH1LnKX0UjXNj3Q</td>\n",
       "      <td>5.0</td>\n",
       "      <td>Best curry katsu in the city! Fresh, flavourfu...</td>\n",
       "    </tr>\n",
       "    <tr>\n",
       "      <th>4035966</th>\n",
       "      <td>gB4JpmmLKClE1ZFAwFWBJQ</td>\n",
       "      <td>Sunrise Grill &amp; Crepe</td>\n",
       "      <td>417 Roncesvalles Avenue</td>\n",
       "      <td>43.651331</td>\n",
       "      <td>-79.450837</td>\n",
       "      <td>3.0</td>\n",
       "      <td>Restaurants, Creperies, Breakfast &amp; Brunch</td>\n",
       "      <td>Tjv5bBtJ-Z_CLiY-rheG2g</td>\n",
       "      <td>3.0</td>\n",
       "      <td>Sunrise used to be my favourite breakfast / br...</td>\n",
       "    </tr>\n",
       "    <tr>\n",
       "      <th>4041795</th>\n",
       "      <td>EEIz44ewHhOKmfTloAK13g</td>\n",
       "      <td>Alo Restaurant</td>\n",
       "      <td>163 Spadina Avenue, 3rd Floor</td>\n",
       "      <td>43.648539</td>\n",
       "      <td>-79.395937</td>\n",
       "      <td>4.5</td>\n",
       "      <td>French, Bars, Nightlife, Restaurants</td>\n",
       "      <td>XDXeVr3vfhVTuwVssHE_6g</td>\n",
       "      <td>5.0</td>\n",
       "      <td>Round 2 at Alo was just as awesome as the firs...</td>\n",
       "    </tr>\n",
       "    <tr>\n",
       "      <th>4041918</th>\n",
       "      <td>EEIz44ewHhOKmfTloAK13g</td>\n",
       "      <td>Alo Restaurant</td>\n",
       "      <td>163 Spadina Avenue, 3rd Floor</td>\n",
       "      <td>43.648539</td>\n",
       "      <td>-79.395937</td>\n",
       "      <td>4.5</td>\n",
       "      <td>French, Bars, Nightlife, Restaurants</td>\n",
       "      <td>iF8oa1M5SGNU8Ai7RpUn5Q</td>\n",
       "      <td>5.0</td>\n",
       "      <td>We can understand as to why this restaurant is...</td>\n",
       "    </tr>\n",
       "    <tr>\n",
       "      <th>4059304</th>\n",
       "      <td>ozeTqG7SflAfY3oL8jQ_qg</td>\n",
       "      <td>Sunset Grill</td>\n",
       "      <td>205 Wellington St W</td>\n",
       "      <td>43.645303</td>\n",
       "      <td>-79.388203</td>\n",
       "      <td>3.5</td>\n",
       "      <td>Canadian (New), Diners, Breakfast &amp; Brunch, Re...</td>\n",
       "      <td>R9ekkmnuwzHziOGJs_getQ</td>\n",
       "      <td>3.0</td>\n",
       "      <td>Kind of an average restaurant. Food, atmospher...</td>\n",
       "    </tr>\n",
       "    <tr>\n",
       "      <th>4063213</th>\n",
       "      <td>-TjzQsimpriXVYaH3HdtQA</td>\n",
       "      <td>The Fanzone Wings &amp; Ribs</td>\n",
       "      <td>1168 Kennedy Road</td>\n",
       "      <td>43.753057</td>\n",
       "      <td>-79.276234</td>\n",
       "      <td>4.0</td>\n",
       "      <td>Restaurants, Bars, American (Traditional), Chi...</td>\n",
       "      <td>nOSWGrjT4HIpDohLAOpgLw</td>\n",
       "      <td>5.0</td>\n",
       "      <td>My second time here last night, I wanted to co...</td>\n",
       "    </tr>\n",
       "    <tr>\n",
       "      <th>4076775</th>\n",
       "      <td>aLTpnF4xG3KA5trMilgChQ</td>\n",
       "      <td>Ni Ji Sushi</td>\n",
       "      <td>1095 Ellesmere Road</td>\n",
       "      <td>43.767601</td>\n",
       "      <td>-79.271453</td>\n",
       "      <td>4.0</td>\n",
       "      <td>Sushi Bars, Restaurants, Japanese</td>\n",
       "      <td>Oa3dZfQdeWEC2ZFlrN02qQ</td>\n",
       "      <td>5.0</td>\n",
       "      <td>Ni Ji is a solid sushi spot for a quick lunch ...</td>\n",
       "    </tr>\n",
       "    <tr>\n",
       "      <th>4079138</th>\n",
       "      <td>NoT7u2QNEvsVbH9MIzAzlw</td>\n",
       "      <td>Si Lom Thai Bistro</td>\n",
       "      <td>534 Church Street</td>\n",
       "      <td>43.665007</td>\n",
       "      <td>-79.380811</td>\n",
       "      <td>4.0</td>\n",
       "      <td>Thai, Restaurants, Vegan, Beer, Wine &amp; Spirits...</td>\n",
       "      <td>0Zswwlz4NzUJoG-skyWzIw</td>\n",
       "      <td>4.0</td>\n",
       "      <td>This is a wonderful and authentic small place ...</td>\n",
       "    </tr>\n",
       "    <tr>\n",
       "      <th>4083789</th>\n",
       "      <td>f-ookZOX4pBNldaOHMkJ4A</td>\n",
       "      <td>Hong Shing Chinese Restaurant</td>\n",
       "      <td>195 Dundas Street W</td>\n",
       "      <td>43.654987</td>\n",
       "      <td>-79.386932</td>\n",
       "      <td>3.0</td>\n",
       "      <td>Food Delivery Services, Food, Chinese, Restaur...</td>\n",
       "      <td>syQQ4lhCqKl12Uc30vPbBQ</td>\n",
       "      <td>4.0</td>\n",
       "      <td>3.5*\\n\\nI have been to this restaurant many ti...</td>\n",
       "    </tr>\n",
       "    <tr>\n",
       "      <th>4088284</th>\n",
       "      <td>9tfw-OEfpF0qC2hSzRks6g</td>\n",
       "      <td>Hair of the Dog</td>\n",
       "      <td>425 Church Street</td>\n",
       "      <td>43.662947</td>\n",
       "      <td>-79.379593</td>\n",
       "      <td>4.0</td>\n",
       "      <td>Bars, Comfort Food, Breakfast &amp; Brunch, Restau...</td>\n",
       "      <td>KqMm55-aglANR78Ov7zGig</td>\n",
       "      <td>4.0</td>\n",
       "      <td>Excellent customer service amazing patio outsi...</td>\n",
       "    </tr>\n",
       "    <tr>\n",
       "      <th>4088553</th>\n",
       "      <td>C3rH8u6P3wFH95AH8SeNmw</td>\n",
       "      <td>Reds Wine Tavern</td>\n",
       "      <td>77 Adelaide St.W., 1st Canadian Pl</td>\n",
       "      <td>43.648312</td>\n",
       "      <td>-79.382332</td>\n",
       "      <td>3.5</td>\n",
       "      <td>Canadian (New), Restaurants, Wine Bars, Bars, ...</td>\n",
       "      <td>eEgeuz6Gg12HZkFZTfbb8A</td>\n",
       "      <td>4.0</td>\n",
       "      <td>The overall experience at this restaurant was ...</td>\n",
       "    </tr>\n",
       "    <tr>\n",
       "      <th>4090408</th>\n",
       "      <td>AY4WY_rfrQum3Ad_ohNhVw</td>\n",
       "      <td>Sultan of Samosas</td>\n",
       "      <td>1677 O'Connor Drive</td>\n",
       "      <td>43.718831</td>\n",
       "      <td>-79.303994</td>\n",
       "      <td>4.0</td>\n",
       "      <td>Food, Restaurants, Indian, Caterers, Event Pla...</td>\n",
       "      <td>a0PFhUOtI7Rb1UVyTEZdiQ</td>\n",
       "      <td>4.0</td>\n",
       "      <td>I love Samosas and if you can offer me the dif...</td>\n",
       "    </tr>\n",
       "    <tr>\n",
       "      <th>4106446</th>\n",
       "      <td>4BZwZrm3atfkDkc0gV3sCQ</td>\n",
       "      <td>Mezzetta Restaurant &amp; Tapas Bar</td>\n",
       "      <td>681 Saint Clair Avenue W</td>\n",
       "      <td>43.681585</td>\n",
       "      <td>-79.425397</td>\n",
       "      <td>3.5</td>\n",
       "      <td>Mediterranean, Tapas Bars, Middle Eastern, Res...</td>\n",
       "      <td>I0TBf4MAcVuXe3bWJZqJ5w</td>\n",
       "      <td>1.0</td>\n",
       "      <td>How can I put zero stars on Yelp?\\n\\nThis is o...</td>\n",
       "    </tr>\n",
       "    <tr>\n",
       "      <th>4110568</th>\n",
       "      <td>8Zjij16AkcnokBQ2w6yXwg</td>\n",
       "      <td>Raj Mahal Indian Cuisine</td>\n",
       "      <td>1881 Steeles Avenue W, Dufferin Corners</td>\n",
       "      <td>43.786322</td>\n",
       "      <td>-79.468894</td>\n",
       "      <td>4.5</td>\n",
       "      <td>Vegetarian, Indian, Kebab, Restaurants</td>\n",
       "      <td>l-t1zT-oNYa-CxggDkJOZQ</td>\n",
       "      <td>4.0</td>\n",
       "      <td>The food here is really good, samosas are grea...</td>\n",
       "    </tr>\n",
       "    <tr>\n",
       "      <th>4135464</th>\n",
       "      <td>bzMO8LJmJtgo3KuyWGKUxA</td>\n",
       "      <td>Homemade Ramen</td>\n",
       "      <td>263 Spadina Avenue</td>\n",
       "      <td>43.652390</td>\n",
       "      <td>-79.397391</td>\n",
       "      <td>4.0</td>\n",
       "      <td>Chinese, Ramen, Japanese, Restaurants, Noodles</td>\n",
       "      <td>c9NbdAJy9eOGGc_i3UKuKQ</td>\n",
       "      <td>3.0</td>\n",
       "      <td>Got this sudden crave for handmade pulled nood...</td>\n",
       "    </tr>\n",
       "    <tr>\n",
       "      <th>4135475</th>\n",
       "      <td>bzMO8LJmJtgo3KuyWGKUxA</td>\n",
       "      <td>Homemade Ramen</td>\n",
       "      <td>263 Spadina Avenue</td>\n",
       "      <td>43.652390</td>\n",
       "      <td>-79.397391</td>\n",
       "      <td>4.0</td>\n",
       "      <td>Chinese, Ramen, Japanese, Restaurants, Noodles</td>\n",
       "      <td>27aMQDVZ9QiO_idsn6GdyA</td>\n",
       "      <td>3.0</td>\n",
       "      <td>Mixed bag this one. We had the hand-pulled nod...</td>\n",
       "    </tr>\n",
       "    <tr>\n",
       "      <th>4189179</th>\n",
       "      <td>ofw8aDSEg1HoQdmCgvLtaQ</td>\n",
       "      <td>The Pie Commission</td>\n",
       "      <td>935 Queensway</td>\n",
       "      <td>43.623881</td>\n",
       "      <td>-79.512074</td>\n",
       "      <td>4.5</td>\n",
       "      <td>Restaurants, Food, Fast Food, Do-It-Yourself F...</td>\n",
       "      <td>PRJMe-RgFnCEhyy7tf3DmQ</td>\n",
       "      <td>4.0</td>\n",
       "      <td>Definitely a hidden gem, but with no shortage ...</td>\n",
       "    </tr>\n",
       "    <tr>\n",
       "      <th>4189298</th>\n",
       "      <td>ofw8aDSEg1HoQdmCgvLtaQ</td>\n",
       "      <td>The Pie Commission</td>\n",
       "      <td>935 Queensway</td>\n",
       "      <td>43.623881</td>\n",
       "      <td>-79.512074</td>\n",
       "      <td>4.5</td>\n",
       "      <td>Restaurants, Food, Fast Food, Do-It-Yourself F...</td>\n",
       "      <td>-vfjOBjztq9rOtOK7YMVXQ</td>\n",
       "      <td>5.0</td>\n",
       "      <td>Been a customer since day one. Almost 4 years....</td>\n",
       "    </tr>\n",
       "  </tbody>\n",
       "</table>\n",
       "<p>335 rows × 10 columns</p>\n",
       "</div>"
      ],
      "text/plain": [
       "                    business_id                                 name  \\\n",
       "59050    ZpPOiNYi4AHNneI7uco7GQ  McSorley's Wonderful Saloon & Grill   \n",
       "78760    Gc8xWVpbUlBYHAoOT9MTyQ                            La Cubana   \n",
       "88355    vnKHXrw585IOH4F3m29yFQ                              Milagro   \n",
       "92894    OQ9rVtBEFFI4jkdEo9AoRg               Loons Restaurant & Pub   \n",
       "97318    fUOY7g6JcO0m3iZNfK0O0g                              Injapan   \n",
       "...                         ...                                  ...   \n",
       "4110568  8Zjij16AkcnokBQ2w6yXwg             Raj Mahal Indian Cuisine   \n",
       "4135464  bzMO8LJmJtgo3KuyWGKUxA                       Homemade Ramen   \n",
       "4135475  bzMO8LJmJtgo3KuyWGKUxA                       Homemade Ramen   \n",
       "4189179  ofw8aDSEg1HoQdmCgvLtaQ                   The Pie Commission   \n",
       "4189298  ofw8aDSEg1HoQdmCgvLtaQ                   The Pie Commission   \n",
       "\n",
       "                                         address   latitude  longitude  stars  \\\n",
       "59050                        1544 Bayview Avenue  43.704737 -79.375121    3.5   \n",
       "78760                        92 Ossington Avenue  43.646208 -79.419674    4.0   \n",
       "88355                             783 Queen St W  43.646126 -79.408170    3.5   \n",
       "92894                    416 Roncesvalles Avenue  43.651730 -79.451260    3.0   \n",
       "97318                        124 Atlantic Avenue  43.639731 -79.421297    3.5   \n",
       "...                                          ...        ...        ...    ...   \n",
       "4110568  1881 Steeles Avenue W, Dufferin Corners  43.786322 -79.468894    4.5   \n",
       "4135464                       263 Spadina Avenue  43.652390 -79.397391    4.0   \n",
       "4135475                       263 Spadina Avenue  43.652390 -79.397391    4.0   \n",
       "4189179                            935 Queensway  43.623881 -79.512074    4.5   \n",
       "4189298                            935 Queensway  43.623881 -79.512074    4.5   \n",
       "\n",
       "                                                categories  \\\n",
       "59050    Sports Bars, American (Traditional), Bars, Pub...   \n",
       "78760       Sandwiches, Desserts, Food, Cuban, Restaurants   \n",
       "88355    Mexican, Restaurants, Local Flavor, Latin Amer...   \n",
       "92894    Restaurants, Bars, American (Traditional), Nig...   \n",
       "97318                    Restaurants, Sushi Bars, Japanese   \n",
       "...                                                    ...   \n",
       "4110568             Vegetarian, Indian, Kebab, Restaurants   \n",
       "4135464     Chinese, Ramen, Japanese, Restaurants, Noodles   \n",
       "4135475     Chinese, Ramen, Japanese, Restaurants, Noodles   \n",
       "4189179  Restaurants, Food, Fast Food, Do-It-Yourself F...   \n",
       "4189298  Restaurants, Food, Fast Food, Do-It-Yourself F...   \n",
       "\n",
       "                        user_id  user_rating  \\\n",
       "59050    jpwc87McTVFCb3r6hI9igQ          4.0   \n",
       "78760    mnJvynzRIYptrjyKtEBiTA          5.0   \n",
       "88355    _SadovtH8RAjtQL4D6Jczw          5.0   \n",
       "92894    hFSC_uJBy-iOlTnmv1hZyw          5.0   \n",
       "97318    BwaodS7fFDWrOZF32KtnHA          5.0   \n",
       "...                         ...          ...   \n",
       "4110568  l-t1zT-oNYa-CxggDkJOZQ          4.0   \n",
       "4135464  c9NbdAJy9eOGGc_i3UKuKQ          3.0   \n",
       "4135475  27aMQDVZ9QiO_idsn6GdyA          3.0   \n",
       "4189179  PRJMe-RgFnCEhyy7tf3DmQ          4.0   \n",
       "4189298  -vfjOBjztq9rOtOK7YMVXQ          5.0   \n",
       "\n",
       "                                                      text  \n",
       "59050    Good nite at Mcsorleys. Easy. Good food & Serv...  \n",
       "78760    Comfort food and I'm not even Latin. There's n...  \n",
       "88355    Home run ! Top notch Service, food and atmosph...  \n",
       "92894    Amazing pub it's one of the best in the roncie...  \n",
       "97318    Every single time I get sushi here it is FRESH...  \n",
       "...                                                    ...  \n",
       "4110568  The food here is really good, samosas are grea...  \n",
       "4135464  Got this sudden crave for handmade pulled nood...  \n",
       "4135475  Mixed bag this one. We had the hand-pulled nod...  \n",
       "4189179  Definitely a hidden gem, but with no shortage ...  \n",
       "4189298  Been a customer since day one. Almost 4 years....  \n",
       "\n",
       "[335 rows x 10 columns]"
      ]
     },
     "execution_count": 19,
     "metadata": {},
     "output_type": "execute_result"
    }
   ],
   "source": [
    "cleaned_df[cleaned_df.duplicated()] # check duplicate"
   ]
  },
  {
   "cell_type": "code",
   "execution_count": 20,
   "metadata": {},
   "outputs": [
    {
     "name": "stdout",
     "output_type": "stream",
     "text": [
      "Number of record in 'cleaned_df' dataset = 219410\n"
     ]
    }
   ],
   "source": [
    "cleaned_df = cleaned_df.drop_duplicates() # remove duplicate \n",
    "print(\"Number of record in 'cleaned_df' dataset = {}\".format(cleaned_df.shape[0]))"
   ]
  },
  {
   "cell_type": "code",
   "execution_count": 21,
   "metadata": {},
   "outputs": [
    {
     "data": {
      "text/plain": [
       "13927"
      ]
     },
     "execution_count": 21,
     "metadata": {},
     "output_type": "execute_result"
    }
   ],
   "source": [
    "cleaned_df['user_id'].nunique()"
   ]
  },
  {
   "cell_type": "code",
   "execution_count": 22,
   "metadata": {},
   "outputs": [
    {
     "name": "stdout",
     "output_type": "stream",
     "text": [
      "Number of record in 'cleaned_df' dataset = 219410\n",
      "The minimum amount of reviews per user is 4\n"
     ]
    }
   ],
   "source": [
    "#check number of records\n",
    "print(\"Number of record in 'cleaned_df' dataset = {}\".format(cleaned_df.shape[0]))\n",
    "# verify the minimum amount of user_id counts\n",
    "print('The minimum amount of reviews per user is {}'.format(np.min(cleaned_df.groupby('user_id')['business_id'].count())))"
   ]
  },
  {
   "cell_type": "markdown",
   "metadata": {},
   "source": [
    "Convert the new data frame into a CSV file"
   ]
  },
  {
   "cell_type": "code",
   "execution_count": 23,
   "metadata": {},
   "outputs": [],
   "source": [
    "csv_name = \"yelp_restaurant_review.csv\"\n",
    "cleaned_df.to_csv(csv_name, index=False)"
   ]
  },
  {
   "cell_type": "markdown",
   "metadata": {},
   "source": [
    "# Step 2. EDA"
   ]
  },
  {
   "cell_type": "markdown",
   "metadata": {},
   "source": [
    "Plot a diagram of star distribution"
   ]
  },
  {
   "cell_type": "code",
   "execution_count": 24,
   "metadata": {},
   "outputs": [
    {
     "name": "stdout",
     "output_type": "stream",
     "text": [
      "1.0      35\n",
      "1.5     107\n",
      "2.0     281\n",
      "2.5     511\n",
      "3.0     915\n",
      "3.5    1432\n",
      "4.0    1418\n",
      "4.5     649\n",
      "5.0     115\n",
      "Name: stars, dtype: int64\n"
     ]
    }
   ],
   "source": [
    "T_rest = restaurant[restaurant.city.str.contains('toronto', case=False, na=False)]\n",
    "# print(T_star)\n",
    "x = T_rest['stars'].value_counts().sort_index()\n",
    "print(x)"
   ]
  },
  {
   "cell_type": "code",
   "execution_count": 25,
   "metadata": {},
   "outputs": [
    {
     "data": {
      "text/plain": [
       "Text(0.5, 1.0, 'Restaurant Star Distribution')"
      ]
     },
     "execution_count": 25,
     "metadata": {},
     "output_type": "execute_result"
    },
    {
     "data": {
      "image/png": "[encoded data removed]",
      "text/plain": [
       "<Figure size 864x576 with 1 Axes>"
      ]
     },
     "metadata": {
      "needs_background": "light"
     },
     "output_type": "display_data"
    }
   ],
   "source": [
    "# plot\n",
    "fig = plt.figure(figsize=(12, 8))\n",
    "plt.bar(x.index, x, width = 0.4)\n",
    "plt.xlabel(\"Stars\") \n",
    "plt.ylabel(\"No. of restaurants\") \n",
    "plt.title(\"Restaurant Star Distribution\") "
   ]
  },
  {
   "cell_type": "code",
   "execution_count": 26,
   "metadata": {},
   "outputs": [
    {
     "name": "stdout",
     "output_type": "stream",
     "text": [
      " Restaurants                  2255\n",
      " Food                          968\n",
      " Bars                          527\n",
      " Nightlife                     521\n",
      " RestaurantsRestaurants        463\n",
      "                              ... \n",
      " PortugueseModern European       1\n",
      " Beauty & SpasFood               1\n",
      " CafesIndonesian                 1\n",
      " Fast FoodCoffee & Tea           1\n",
      " Chicken ShopBurgers             1\n",
      "Name: categories, Length: 2450, dtype: int64 <class 'pandas.core.series.Series'>\n"
     ]
    }
   ],
   "source": [
    "# category = restaurant.assign(restaurant.categories.str.split(',').explode('categories'))\n",
    "res_category = ''.join(T_rest['categories'].astype('str'))\n",
    "category = pd.DataFrame(res_category.split(','), columns=['categories'])\n",
    "x = category.categories.value_counts().sort_values(ascending = False)\n",
    "print(x, type(x))"
   ]
  },
  {
   "cell_type": "markdown",
   "metadata": {},
   "source": [
    "we want to see the attributes other than 'Restaurants', 'Food', and 'RestaurantsRestaurants'"
   ]
  },
  {
   "cell_type": "code",
   "execution_count": 27,
   "metadata": {},
   "outputs": [],
   "source": [
    "x = x.drop(index = [' Restaurants', ' Food', ' RestaurantsRestaurants'])\n",
    "y = x.iloc[0:10]"
   ]
  },
  {
   "cell_type": "markdown",
   "metadata": {},
   "source": [
    "Top 10 most popular attributes of restaurant in Toronto"
   ]
  },
  {
   "cell_type": "code",
   "execution_count": 28,
   "metadata": {},
   "outputs": [
    {
     "data": {
      "text/plain": [
       "Text(0.5, 1.0, 'Top 10 Attributes of Restaurants in Toronto')"
      ]
     },
     "execution_count": 28,
     "metadata": {},
     "output_type": "execute_result"
    },
    {
     "data": {
      "image/png": "[encoded data removed]",
      "text/plain": [
       "<Figure size 864x576 with 1 Axes>"
      ]
     },
     "metadata": {
      "needs_background": "light"
     },
     "output_type": "display_data"
    }
   ],
   "source": [
    "fig = plt.figure(figsize=(12, 8))\n",
    "plt.bar(y.index, y, width = 0.4)\n",
    "plt.xlabel(\"Attributes\")\n",
    "plt.xticks(rotation = 45)\n",
    "plt.ylabel(\"No. of Restaurants\") \n",
    "plt.title(\"Top 10 Attributes of Restaurants in Toronto\") "
   ]
  },
  {
   "cell_type": "markdown",
   "metadata": {},
   "source": [
    "Top 10 restaurants that have the most number of reviews in Toronto"
   ]
  },
  {
   "cell_type": "code",
   "execution_count": 29,
   "metadata": {
    "scrolled": true
   },
   "outputs": [
    {
     "data": {
      "text/plain": [
       "Pai Northern Thai Kitchen            2834\n",
       "Banh Mi Boys                         1747\n",
       "KINKA IZAKAYA ORIGINAL               1618\n",
       "Khao San Road                        1603\n",
       "Seven Lives Tacos Y Mariscos         1317\n",
       "The Burger's Priest                  1290\n",
       "Terroni                              1288\n",
       "KINTON RAMEN                         1207\n",
       "La Carnita                           1154\n",
       "Uncle Tetsu's Japanese Cheesecake    1100\n",
       "Name: name, dtype: int64"
      ]
     },
     "execution_count": 29,
     "metadata": {},
     "output_type": "execute_result"
    }
   ],
   "source": [
    "a = cleaned['name'].value_counts().sort_values(ascending = False).iloc[0:10]\n",
    "a"
   ]
  },
  {
   "cell_type": "code",
   "execution_count": 30,
   "metadata": {},
   "outputs": [
    {
     "data": {
      "text/plain": [
       "Text(0.5, 1.0, 'Top 10 Restaurants with the most reviews in Toronto')"
      ]
     },
     "execution_count": 30,
     "metadata": {},
     "output_type": "execute_result"
    },
    {
     "data": {
      "image/png": "[encoded data removed]",
      "text/plain": [
       "<Figure size 864x576 with 1 Axes>"
      ]
     },
     "metadata": {
      "needs_background": "light"
     },
     "output_type": "display_data"
    }
   ],
   "source": [
    "fig = plt.figure(figsize=(12, 8))\n",
    "plt.bar(a.index, a, width = 0.4)\n",
    "plt.xlabel(\"Restaurants\")\n",
    "plt.xticks(rotation = 45)\n",
    "plt.ylabel(\"No. of Reviews\") \n",
    "plt.title(\"Top 10 Restaurants with the most reviews in Toronto\")"
   ]
  },
  {
   "cell_type": "code",
   "execution_count": null,
   "metadata": {},
   "outputs": [],
   "source": []
  },
  {
   "cell_type": "markdown",
   "metadata": {},
   "source": [
    "Step 3. Split training and testing sets"
   ]
  },
  {
   "cell_type": "code",
   "execution_count": 31,
   "metadata": {},
   "outputs": [
    {
     "data": {
      "text/html": [
       "<div>\n",
       "<style scoped>\n",
       "    .dataframe tbody tr th:only-of-type {\n",
       "        vertical-align: middle;\n",
       "    }\n",
       "\n",
       "    .dataframe tbody tr th {\n",
       "        vertical-align: top;\n",
       "    }\n",
       "\n",
       "    .dataframe thead th {\n",
       "        text-align: right;\n",
       "    }\n",
       "</style>\n",
       "<table border=\"1\" class=\"dataframe\">\n",
       "  <thead>\n",
       "    <tr style=\"text-align: right;\">\n",
       "      <th></th>\n",
       "      <th>user_id</th>\n",
       "      <th>business_id</th>\n",
       "      <th>user_rating</th>\n",
       "    </tr>\n",
       "  </thead>\n",
       "  <tbody>\n",
       "    <tr>\n",
       "      <th>121</th>\n",
       "      <td>Zr535e3501Ygs4hO5hO05Q</td>\n",
       "      <td>0QjROMVW9ACKjhSEfHqNCQ</td>\n",
       "      <td>4.0</td>\n",
       "    </tr>\n",
       "    <tr>\n",
       "      <th>122</th>\n",
       "      <td>20xtru4h_7TjFn4lSHmSsg</td>\n",
       "      <td>0QjROMVW9ACKjhSEfHqNCQ</td>\n",
       "      <td>5.0</td>\n",
       "    </tr>\n",
       "    <tr>\n",
       "      <th>124</th>\n",
       "      <td>222kqiACWSwnpcxC0AaxFA</td>\n",
       "      <td>0QjROMVW9ACKjhSEfHqNCQ</td>\n",
       "      <td>5.0</td>\n",
       "    </tr>\n",
       "    <tr>\n",
       "      <th>125</th>\n",
       "      <td>90B8GzGsz6fcgry_LFN4ug</td>\n",
       "      <td>0QjROMVW9ACKjhSEfHqNCQ</td>\n",
       "      <td>5.0</td>\n",
       "    </tr>\n",
       "    <tr>\n",
       "      <th>126</th>\n",
       "      <td>2Va8pKWQLi4CtkrFY8an8A</td>\n",
       "      <td>0QjROMVW9ACKjhSEfHqNCQ</td>\n",
       "      <td>4.0</td>\n",
       "    </tr>\n",
       "  </tbody>\n",
       "</table>\n",
       "</div>"
      ],
      "text/plain": [
       "                    user_id             business_id  user_rating\n",
       "121  Zr535e3501Ygs4hO5hO05Q  0QjROMVW9ACKjhSEfHqNCQ          4.0\n",
       "122  20xtru4h_7TjFn4lSHmSsg  0QjROMVW9ACKjhSEfHqNCQ          5.0\n",
       "124  222kqiACWSwnpcxC0AaxFA  0QjROMVW9ACKjhSEfHqNCQ          5.0\n",
       "125  90B8GzGsz6fcgry_LFN4ug  0QjROMVW9ACKjhSEfHqNCQ          5.0\n",
       "126  2Va8pKWQLi4CtkrFY8an8A  0QjROMVW9ACKjhSEfHqNCQ          4.0"
      ]
     },
     "execution_count": 31,
     "metadata": {},
     "output_type": "execute_result"
    }
   ],
   "source": [
    "# t_data -> cleaned data for Toronto\n",
    "t_data = cleaned_df[['user_id', 'business_id', 'user_rating']]\n",
    "t_data.head()"
   ]
  },
  {
   "cell_type": "code",
   "execution_count": 32,
   "metadata": {},
   "outputs": [
    {
     "name": "stdout",
     "output_type": "stream",
     "text": [
      "n_users = 13927, n_items = 5418\n"
     ]
    }
   ],
   "source": [
    "n_users = t_data.user_id.unique().shape[0] # total number of users\n",
    "n_items = t_data.business_id.unique().shape[0] # total number of businesses\n",
    "print(\"n_users = {}, n_items = {}\".format(n_users, n_items))"
   ]
  },
  {
   "cell_type": "code",
   "execution_count": 33,
   "metadata": {},
   "outputs": [
    {
     "name": "stdout",
     "output_type": "stream",
     "text": [
      "size of train_data = 153587\n",
      "size of test_data = 65823\n",
      "<class 'pandas.core.frame.DataFrame'>\n"
     ]
    }
   ],
   "source": [
    "import sklearn\n",
    "from sklearn.model_selection import train_test_split \n",
    "train_data, test_data = train_test_split(t_data, test_size = 0.3, stratify = t_data['user_id'])\n",
    "print(\"size of train_data = {}\\nsize of test_data = {}\".format(len(train_data), len(test_data)))\n",
    "print(type(train_data))"
   ]
  },
  {
   "cell_type": "markdown",
   "metadata": {},
   "source": [
    "## Memory-Based Collaborative Filtering"
   ]
  },
  {
   "cell_type": "markdown",
   "metadata": {},
   "source": [
    "To implement a Memory Based CF, a user-item matrix is created, so the similarity between two users or two items can be calculated. For items, the similarity of ratings will be looked. For users, all the items that are rated by users and how much their rating are similar will be looked. After that, similarity matrics for item-item and user-user are obtained, leading to item-item CF and user-item CF respectively. To calculate the similarity, we used cosine similarity. We consider the ratings as vectors in n-dimensional space, and calculate the angle between these vectors to determine the similarity."
   ]
  },
  {
   "cell_type": "markdown",
   "metadata": {},
   "source": [
    "Create user-item matrics for training and testing dataset"
   ]
  },
  {
   "cell_type": "code",
   "execution_count": 34,
   "metadata": {
    "scrolled": true
   },
   "outputs": [
    {
     "name": "stdout",
     "output_type": "stream",
     "text": [
      "size of item_list = 5418\n",
      "size of user_list = 13927\n",
      "<class 'numpy.ndarray'>\n"
     ]
    }
   ],
   "source": [
    "item_list = t_data['business_id'].unique() #train_data\n",
    "user_list = t_data['user_id'].unique() #train_data\n",
    "print(\"size of item_list = {}\\nsize of user_list = {}\".format(len(item_list), len(user_list)))\n",
    "print(type(item_list))"
   ]
  },
  {
   "cell_type": "markdown",
   "metadata": {},
   "source": [
    "Construct matrics for training and testing dataset"
   ]
  },
  {
   "cell_type": "code",
   "execution_count": 35,
   "metadata": {},
   "outputs": [],
   "source": [
    "# training\n",
    "train_matrix = np.zeros((n_users, n_items)) \n",
    "#train_matrix = np.zeros((len(user_list), len(item_list))) \n",
    "train_matrix = pd.DataFrame(train_matrix, columns = item_list, index = user_list)\n",
    "for line in train_data.itertuples():\n",
    "    train_matrix.loc[line[1],line[2]] = line[3]"
   ]
  },
  {
   "cell_type": "code",
   "execution_count": 36,
   "metadata": {},
   "outputs": [],
   "source": [
    "# testing\n",
    "test_matrix = np.zeros((n_users, n_items))\n",
    "#test_matrix = np.zeros((len(user_list), len(item_list)))\n",
    "test_matrix = pd.DataFrame(test_matrix, columns = item_list, index = user_list)\n",
    "for line in test_data.itertuples():\n",
    "    test_matrix.loc[line[1],line[2]] = line[3]"
   ]
  },
  {
   "cell_type": "code",
   "execution_count": 37,
   "metadata": {},
   "outputs": [
    {
     "data": {
      "text/html": [
       "<div>\n",
       "<style scoped>\n",
       "    .dataframe tbody tr th:only-of-type {\n",
       "        vertical-align: middle;\n",
       "    }\n",
       "\n",
       "    .dataframe tbody tr th {\n",
       "        vertical-align: top;\n",
       "    }\n",
       "\n",
       "    .dataframe thead th {\n",
       "        text-align: right;\n",
       "    }\n",
       "</style>\n",
       "<table border=\"1\" class=\"dataframe\">\n",
       "  <thead>\n",
       "    <tr style=\"text-align: right;\">\n",
       "      <th></th>\n",
       "      <th>0QjROMVW9ACKjhSEfHqNCQ</th>\n",
       "      <th>8k62wYhDVq1-652YbJi5eg</th>\n",
       "      <th>0DnQh8SE8BSnvJltGCCiWg</th>\n",
       "      <th>NLaK58WvlNQdUunSIkt-jA</th>\n",
       "      <th>cicPsia8Wj-DNRkmLbD_xg</th>\n",
       "      <th>0nqQIM2PvOcTX6v0L537_Q</th>\n",
       "      <th>xVXyrTWbG8U3szze-aA7eg</th>\n",
       "      <th>TKKX9bllRBMzp0NYr441PQ</th>\n",
       "      <th>37kk0IW6jL7ZlxZF6k2QBg</th>\n",
       "      <th>0rMFhLzeq3Z2OaJ62MQXlw</th>\n",
       "      <th>...</th>\n",
       "      <th>lkq6i2x3vUsR7ZNrIFqoIw</th>\n",
       "      <th>9F_3PA1QBQ3aGI2RW2zMtw</th>\n",
       "      <th>6R4GzPhlFS1n_xCO7U7Gcw</th>\n",
       "      <th>2auigv5pF08RjJ8CL1dIVw</th>\n",
       "      <th>sS8uO7UuWcW_17AMga4yKg</th>\n",
       "      <th>thzyiQZb16zD8wMliaEfRQ</th>\n",
       "      <th>eUi3O-8Gqh_nJ_ZhO-25gQ</th>\n",
       "      <th>yFQCdWr_k1pTObzHPGis9Q</th>\n",
       "      <th>GAgEoHcf4PSuZRS5Zd3ltA</th>\n",
       "      <th>n2BKYb8aw4AhRKLkdUjQRg</th>\n",
       "    </tr>\n",
       "  </thead>\n",
       "  <tbody>\n",
       "    <tr>\n",
       "      <th>Zr535e3501Ygs4hO5hO05Q</th>\n",
       "      <td>4.0</td>\n",
       "      <td>0.0</td>\n",
       "      <td>0.0</td>\n",
       "      <td>0.0</td>\n",
       "      <td>0.0</td>\n",
       "      <td>0.0</td>\n",
       "      <td>0.0</td>\n",
       "      <td>0.0</td>\n",
       "      <td>0.0</td>\n",
       "      <td>0.0</td>\n",
       "      <td>...</td>\n",
       "      <td>0.0</td>\n",
       "      <td>0.0</td>\n",
       "      <td>0.0</td>\n",
       "      <td>0.0</td>\n",
       "      <td>0.0</td>\n",
       "      <td>0.0</td>\n",
       "      <td>0.0</td>\n",
       "      <td>0.0</td>\n",
       "      <td>0.0</td>\n",
       "      <td>0.0</td>\n",
       "    </tr>\n",
       "    <tr>\n",
       "      <th>20xtru4h_7TjFn4lSHmSsg</th>\n",
       "      <td>5.0</td>\n",
       "      <td>0.0</td>\n",
       "      <td>0.0</td>\n",
       "      <td>0.0</td>\n",
       "      <td>0.0</td>\n",
       "      <td>0.0</td>\n",
       "      <td>0.0</td>\n",
       "      <td>0.0</td>\n",
       "      <td>0.0</td>\n",
       "      <td>0.0</td>\n",
       "      <td>...</td>\n",
       "      <td>0.0</td>\n",
       "      <td>0.0</td>\n",
       "      <td>0.0</td>\n",
       "      <td>0.0</td>\n",
       "      <td>0.0</td>\n",
       "      <td>0.0</td>\n",
       "      <td>0.0</td>\n",
       "      <td>0.0</td>\n",
       "      <td>0.0</td>\n",
       "      <td>0.0</td>\n",
       "    </tr>\n",
       "    <tr>\n",
       "      <th>222kqiACWSwnpcxC0AaxFA</th>\n",
       "      <td>5.0</td>\n",
       "      <td>0.0</td>\n",
       "      <td>0.0</td>\n",
       "      <td>0.0</td>\n",
       "      <td>0.0</td>\n",
       "      <td>0.0</td>\n",
       "      <td>0.0</td>\n",
       "      <td>0.0</td>\n",
       "      <td>0.0</td>\n",
       "      <td>0.0</td>\n",
       "      <td>...</td>\n",
       "      <td>0.0</td>\n",
       "      <td>0.0</td>\n",
       "      <td>0.0</td>\n",
       "      <td>0.0</td>\n",
       "      <td>0.0</td>\n",
       "      <td>0.0</td>\n",
       "      <td>0.0</td>\n",
       "      <td>0.0</td>\n",
       "      <td>0.0</td>\n",
       "      <td>0.0</td>\n",
       "    </tr>\n",
       "    <tr>\n",
       "      <th>90B8GzGsz6fcgry_LFN4ug</th>\n",
       "      <td>5.0</td>\n",
       "      <td>0.0</td>\n",
       "      <td>0.0</td>\n",
       "      <td>0.0</td>\n",
       "      <td>0.0</td>\n",
       "      <td>0.0</td>\n",
       "      <td>0.0</td>\n",
       "      <td>0.0</td>\n",
       "      <td>0.0</td>\n",
       "      <td>0.0</td>\n",
       "      <td>...</td>\n",
       "      <td>0.0</td>\n",
       "      <td>0.0</td>\n",
       "      <td>0.0</td>\n",
       "      <td>0.0</td>\n",
       "      <td>0.0</td>\n",
       "      <td>0.0</td>\n",
       "      <td>0.0</td>\n",
       "      <td>0.0</td>\n",
       "      <td>0.0</td>\n",
       "      <td>0.0</td>\n",
       "    </tr>\n",
       "    <tr>\n",
       "      <th>2Va8pKWQLi4CtkrFY8an8A</th>\n",
       "      <td>0.0</td>\n",
       "      <td>0.0</td>\n",
       "      <td>0.0</td>\n",
       "      <td>0.0</td>\n",
       "      <td>0.0</td>\n",
       "      <td>0.0</td>\n",
       "      <td>0.0</td>\n",
       "      <td>0.0</td>\n",
       "      <td>0.0</td>\n",
       "      <td>0.0</td>\n",
       "      <td>...</td>\n",
       "      <td>0.0</td>\n",
       "      <td>0.0</td>\n",
       "      <td>0.0</td>\n",
       "      <td>0.0</td>\n",
       "      <td>0.0</td>\n",
       "      <td>0.0</td>\n",
       "      <td>0.0</td>\n",
       "      <td>0.0</td>\n",
       "      <td>0.0</td>\n",
       "      <td>0.0</td>\n",
       "    </tr>\n",
       "  </tbody>\n",
       "</table>\n",
       "<p>5 rows × 5418 columns</p>\n",
       "</div>"
      ],
      "text/plain": [
       "                        0QjROMVW9ACKjhSEfHqNCQ  8k62wYhDVq1-652YbJi5eg  \\\n",
       "Zr535e3501Ygs4hO5hO05Q                     4.0                     0.0   \n",
       "20xtru4h_7TjFn4lSHmSsg                     5.0                     0.0   \n",
       "222kqiACWSwnpcxC0AaxFA                     5.0                     0.0   \n",
       "90B8GzGsz6fcgry_LFN4ug                     5.0                     0.0   \n",
       "2Va8pKWQLi4CtkrFY8an8A                     0.0                     0.0   \n",
       "\n",
       "                        0DnQh8SE8BSnvJltGCCiWg  NLaK58WvlNQdUunSIkt-jA  \\\n",
       "Zr535e3501Ygs4hO5hO05Q                     0.0                     0.0   \n",
       "20xtru4h_7TjFn4lSHmSsg                     0.0                     0.0   \n",
       "222kqiACWSwnpcxC0AaxFA                     0.0                     0.0   \n",
       "90B8GzGsz6fcgry_LFN4ug                     0.0                     0.0   \n",
       "2Va8pKWQLi4CtkrFY8an8A                     0.0                     0.0   \n",
       "\n",
       "                        cicPsia8Wj-DNRkmLbD_xg  0nqQIM2PvOcTX6v0L537_Q  \\\n",
       "Zr535e3501Ygs4hO5hO05Q                     0.0                     0.0   \n",
       "20xtru4h_7TjFn4lSHmSsg                     0.0                     0.0   \n",
       "222kqiACWSwnpcxC0AaxFA                     0.0                     0.0   \n",
       "90B8GzGsz6fcgry_LFN4ug                     0.0                     0.0   \n",
       "2Va8pKWQLi4CtkrFY8an8A                     0.0                     0.0   \n",
       "\n",
       "                        xVXyrTWbG8U3szze-aA7eg  TKKX9bllRBMzp0NYr441PQ  \\\n",
       "Zr535e3501Ygs4hO5hO05Q                     0.0                     0.0   \n",
       "20xtru4h_7TjFn4lSHmSsg                     0.0                     0.0   \n",
       "222kqiACWSwnpcxC0AaxFA                     0.0                     0.0   \n",
       "90B8GzGsz6fcgry_LFN4ug                     0.0                     0.0   \n",
       "2Va8pKWQLi4CtkrFY8an8A                     0.0                     0.0   \n",
       "\n",
       "                        37kk0IW6jL7ZlxZF6k2QBg  0rMFhLzeq3Z2OaJ62MQXlw  ...  \\\n",
       "Zr535e3501Ygs4hO5hO05Q                     0.0                     0.0  ...   \n",
       "20xtru4h_7TjFn4lSHmSsg                     0.0                     0.0  ...   \n",
       "222kqiACWSwnpcxC0AaxFA                     0.0                     0.0  ...   \n",
       "90B8GzGsz6fcgry_LFN4ug                     0.0                     0.0  ...   \n",
       "2Va8pKWQLi4CtkrFY8an8A                     0.0                     0.0  ...   \n",
       "\n",
       "                        lkq6i2x3vUsR7ZNrIFqoIw  9F_3PA1QBQ3aGI2RW2zMtw  \\\n",
       "Zr535e3501Ygs4hO5hO05Q                     0.0                     0.0   \n",
       "20xtru4h_7TjFn4lSHmSsg                     0.0                     0.0   \n",
       "222kqiACWSwnpcxC0AaxFA                     0.0                     0.0   \n",
       "90B8GzGsz6fcgry_LFN4ug                     0.0                     0.0   \n",
       "2Va8pKWQLi4CtkrFY8an8A                     0.0                     0.0   \n",
       "\n",
       "                        6R4GzPhlFS1n_xCO7U7Gcw  2auigv5pF08RjJ8CL1dIVw  \\\n",
       "Zr535e3501Ygs4hO5hO05Q                     0.0                     0.0   \n",
       "20xtru4h_7TjFn4lSHmSsg                     0.0                     0.0   \n",
       "222kqiACWSwnpcxC0AaxFA                     0.0                     0.0   \n",
       "90B8GzGsz6fcgry_LFN4ug                     0.0                     0.0   \n",
       "2Va8pKWQLi4CtkrFY8an8A                     0.0                     0.0   \n",
       "\n",
       "                        sS8uO7UuWcW_17AMga4yKg  thzyiQZb16zD8wMliaEfRQ  \\\n",
       "Zr535e3501Ygs4hO5hO05Q                     0.0                     0.0   \n",
       "20xtru4h_7TjFn4lSHmSsg                     0.0                     0.0   \n",
       "222kqiACWSwnpcxC0AaxFA                     0.0                     0.0   \n",
       "90B8GzGsz6fcgry_LFN4ug                     0.0                     0.0   \n",
       "2Va8pKWQLi4CtkrFY8an8A                     0.0                     0.0   \n",
       "\n",
       "                        eUi3O-8Gqh_nJ_ZhO-25gQ  yFQCdWr_k1pTObzHPGis9Q  \\\n",
       "Zr535e3501Ygs4hO5hO05Q                     0.0                     0.0   \n",
       "20xtru4h_7TjFn4lSHmSsg                     0.0                     0.0   \n",
       "222kqiACWSwnpcxC0AaxFA                     0.0                     0.0   \n",
       "90B8GzGsz6fcgry_LFN4ug                     0.0                     0.0   \n",
       "2Va8pKWQLi4CtkrFY8an8A                     0.0                     0.0   \n",
       "\n",
       "                        GAgEoHcf4PSuZRS5Zd3ltA  n2BKYb8aw4AhRKLkdUjQRg  \n",
       "Zr535e3501Ygs4hO5hO05Q                     0.0                     0.0  \n",
       "20xtru4h_7TjFn4lSHmSsg                     0.0                     0.0  \n",
       "222kqiACWSwnpcxC0AaxFA                     0.0                     0.0  \n",
       "90B8GzGsz6fcgry_LFN4ug                     0.0                     0.0  \n",
       "2Va8pKWQLi4CtkrFY8an8A                     0.0                     0.0  \n",
       "\n",
       "[5 rows x 5418 columns]"
      ]
     },
     "execution_count": 37,
     "metadata": {},
     "output_type": "execute_result"
    }
   ],
   "source": [
    "train_matrix.head()"
   ]
  },
  {
   "cell_type": "code",
   "execution_count": 38,
   "metadata": {},
   "outputs": [],
   "source": [
    "train_matrix.to_csv(\"train_matrix.csv\")"
   ]
  },
  {
   "cell_type": "markdown",
   "metadata": {},
   "source": [
    "To make predictions by computing the similarities for all of the user-user and restaurant-restaurant pairs, the similarity matrix for users and restaurants can be constructed by using 'pairwise distance' function from 'sklearn'.\n",
    "\n",
    "For the memory-based collaborative filtering, we have two ways to make predictions. The first is based on the similarities between users. To predict user similarity, the weighted average of the ratings from all the users to the restarant was computed, with the similarities between users as the weights.\n",
    "\n",
    "Since some users tend to always give higher or lower ratings, the substraction of average rating from each user were made to eliminate the bias."
   ]
  },
  {
   "attachments": {
    "user_base.JPG": {
     "image/jpeg": "[encoded data removed]"
    }
   },
   "cell_type": "markdown",
   "metadata": {},
   "source": [
    "![user_base.JPG](attachment:user_base.JPG)"
   ]
  },
  {
   "cell_type": "markdown",
   "metadata": {},
   "source": [
    "The second way to make prediction is based on the item-item (restaurant-restaurant) similarities, but it is not necessary to do the substraction to eliminate bias as the user-user similarity matrix above. "
   ]
  },
  {
   "attachments": {
    "item_base.JPG": {
     "image/jpeg": "[encoded data removed]"
    }
   },
   "cell_type": "markdown",
   "metadata": {},
   "source": [
    "![item_base.JPG](attachment:item_base.JPG)"
   ]
  },
  {
   "cell_type": "markdown",
   "metadata": {},
   "source": [
    "Use 'pairwise distance' function from 'sklearn' to calculate the cosine similarity"
   ]
  },
  {
   "cell_type": "code",
   "execution_count": 39,
   "metadata": {},
   "outputs": [],
   "source": [
    "from sklearn.metrics.pairwise import pairwise_distances\n",
    "user_similarity = pairwise_distances(train_matrix, metric = 'cosine')\n",
    "item_similarity = pairwise_distances(train_matrix.T, metric = 'cosine')\n",
    "# print(\"user_similarity:\", user_similarity)\n",
    "# print(\"item_similarity:\", item_similarity)"
   ]
  },
  {
   "cell_type": "code",
   "execution_count": 40,
   "metadata": {},
   "outputs": [],
   "source": [
    "def predict(rating, similarity, type='user'):\n",
    "    if type == 'user':\n",
    "        avg_rating = rating.mean(axis=1) # calculate average ratings for each user, remove bias\n",
    "        rating_diff = (rating - avg_rating[:, np.newaxis]) #np.newaxis make avg_rating has same format as rating\n",
    "        pred = avg_rating[:,np.newaxis] + similarity.dot(rating_diff)/np.array([np.abs(similarity).sum(axis = 1)]).T\n",
    "    elif type == 'item':\n",
    "        pred = rating.dot(similarity)/np.array([np.abs(similarity).sum(axis = 1)])\n",
    "    return pred"
   ]
  },
  {
   "cell_type": "code",
   "execution_count": 41,
   "metadata": {},
   "outputs": [],
   "source": [
    "item_prediction = predict(train_matrix, item_similarity, type='item')\n",
    "user_prediction = predict(train_matrix, user_similarity, type='user')"
   ]
  },
  {
   "cell_type": "code",
   "execution_count": 42,
   "metadata": {
    "scrolled": true
   },
   "outputs": [],
   "source": [
    "# train_matrix.mean(axis = 1)"
   ]
  },
  {
   "cell_type": "code",
   "execution_count": 43,
   "metadata": {},
   "outputs": [],
   "source": [
    "from sklearn.metrics import mean_squared_error\n",
    "from sklearn.metrics import mean_absolute_error\n",
    "\n",
    "from math import sqrt\n",
    "def rmse(test, prediction):\n",
    "    return sqrt(mean_squared_error(test, prediction))\n",
    "def mae(test, prediction):\n",
    "    return mean_absolute_error(test, prediction)"
   ]
  },
  {
   "cell_type": "code",
   "execution_count": 44,
   "metadata": {
    "scrolled": true
   },
   "outputs": [
    {
     "name": "stdout",
     "output_type": "stream",
     "text": [
      "User-based CF training RMSE: 0.17080931957378923\n",
      "Item-based CF training RMSE: 0.17127371076509687\n",
      "User-based CF testing RMSE: 0.11342850521733047\n",
      "Item-based CF testing RMSE: 0.11331664465513204\n"
     ]
    }
   ],
   "source": [
    "trainRMSE = []\n",
    "testRMSE = []\n",
    "\n",
    "user_TrainRMSE = rmse(train_matrix, user_prediction)\n",
    "user_TestRMSE = rmse(test_matrix, user_prediction)\n",
    "trainRMSE.append(user_TrainRMSE)\n",
    "testRMSE.append(user_TestRMSE)\n",
    "\n",
    "item_TrainRMSE = rmse(train_matrix, item_prediction)\n",
    "item_TestRMSE = rmse(test_matrix, item_prediction)\n",
    "trainRMSE.append(item_TrainRMSE)\n",
    "testRMSE.append(item_TestRMSE)\n",
    "\n",
    "print('User-based CF training RMSE: ' + str(user_TrainRMSE))\n",
    "print('Item-based CF training RMSE: ' + str(item_TrainRMSE))\n",
    "print('User-based CF testing RMSE: ' + str(user_TestRMSE))\n",
    "print('Item-based CF testing RMSE: ' + str(item_TestRMSE))"
   ]
  },
  {
   "cell_type": "code",
   "execution_count": 45,
   "metadata": {},
   "outputs": [
    {
     "name": "stdout",
     "output_type": "stream",
     "text": [
      "User-based CF training MAE: 0.01656467672673349\n",
      "Item-based CF training MAE: 0.014494279351223403\n",
      "User-based CF testing MAE: 0.012530822400096026\n",
      "Item-based CF testing MAE: 0.010412492806555563\n"
     ]
    }
   ],
   "source": [
    "trainMAE = []\n",
    "testMAE = []\n",
    "\n",
    "user_TrainMAE = mae(train_matrix, user_prediction)\n",
    "user_TestMAE = mae(test_matrix, user_prediction)\n",
    "trainMAE.append(user_TrainMAE)\n",
    "testMAE.append(user_TestMAE)\n",
    "\n",
    "item_TrainMAE = mae(train_matrix, item_prediction)\n",
    "item_TestMAE = mae(test_matrix, item_prediction)\n",
    "trainMAE.append(item_TrainMAE)\n",
    "testMAE.append(item_TestMAE)\n",
    "\n",
    "print('User-based CF training MAE: ' + str(user_TrainMAE))\n",
    "print('Item-based CF training MAE: ' + str(item_TrainMAE))\n",
    "print('User-based CF testing MAE: ' + str(user_TestMAE))\n",
    "print('Item-based CF testing MAE: ' + str(item_TestMAE))"
   ]
  },
  {
   "cell_type": "markdown",
   "metadata": {},
   "source": [
    "## Model-Based Collaborative Filtering"
   ]
  },
  {
   "cell_type": "markdown",
   "metadata": {},
   "source": [
    "Model-based Collaborative Filtering is based on matrix factorization, which mainly as an unsupervised learning method for latent variable decomposition and dimensionality reduction. Matrix factorization is widely used for recommender systems where it can deal better with scalability and sparsity than Memory-based CF.\n",
    "\n",
    "The goal of MF method for the Yelp dataset is to learn the latent preferences of users and the latent attributes of items from known ratings. A prediction of unknown ratings will be made by conducting dot product of the latent features of users and items. If the matrix has a large sparcity and scale, by doing matrix factorization which restructure the user-item matrix into two low rank matrices and allows filling in the original matrix; it predicts unknown ratings by taking the dot product of the two low rank matrices of users or items. For implementing matrix factorization, we used singular value decomposition (SVD). SVD is solved as follows:"
   ]
  },
  {
   "cell_type": "markdown",
   "metadata": {},
   "source": [
    "$$ SVD(A) = U * \\sum * V^T $$"
   ]
  },
  {
   "cell_type": "markdown",
   "metadata": {},
   "source": [
    " - U and V are m x m and n x n matrices orthogonal matrices respectively\n",
    " - $ \\sum$ is the m x n singular orthogonal matrix with non-negative elements"
   ]
  },
  {
   "cell_type": "code",
   "execution_count": 46,
   "metadata": {},
   "outputs": [
    {
     "name": "stdout",
     "output_type": "stream",
     "text": [
      "The sparsity level of the Dataset is  99.7 %\n"
     ]
    }
   ],
   "source": [
    "sparsity = round(1-len(cleaned_df) / float(n_users*n_items),3)\n",
    "print('The sparsity level of the Dataset is ', sparsity*100, '%')"
   ]
  },
  {
   "cell_type": "code",
   "execution_count": 47,
   "metadata": {},
   "outputs": [
    {
     "name": "stdout",
     "output_type": "stream",
     "text": [
      "SVD training RMSE:0.16572897086737315\n",
      "SVD testing RMSE:0.11836813402607362\n",
      "SVD training MAE:0.015489277286060553\n",
      "SVD testing MAE:0.012126305715336183\n"
     ]
    }
   ],
   "source": [
    "import scipy.sparse as sp\n",
    "from scipy.sparse.linalg import svds\n",
    "\n",
    "#get SVD components from train matrix. Choose k.\n",
    "u, s, vt = svds(train_matrix, k = 10)\n",
    "s_diag_matrix=np.diag(s)\n",
    "SVD_pred = np.dot(np.dot(u, s_diag_matrix), vt)\n",
    "\n",
    "SVD_TrainRMSE = rmse(train_matrix, SVD_pred)\n",
    "SVD_TestRMSE = rmse(test_matrix, SVD_pred)\n",
    "trainRMSE.append(SVD_TrainRMSE)\n",
    "testRMSE.append(SVD_TestRMSE)\n",
    "print('SVD training RMSE:' + str(SVD_TrainRMSE))\n",
    "print('SVD testing RMSE:' + str(SVD_TestRMSE))\n",
    "\n",
    "SVD_TrainMAE = mae(train_matrix, SVD_pred)\n",
    "SVD_TestMAE = mae(test_matrix, SVD_pred)\n",
    "trainMAE.append(SVD_TrainMAE)\n",
    "testMAE.append(SVD_TestMAE)\n",
    "print('SVD training MAE:' + str(SVD_TrainMAE))\n",
    "print('SVD testing MAE:' + str(SVD_TestMAE))"
   ]
  },
  {
   "cell_type": "markdown",
   "metadata": {},
   "source": [
    "RMSE in the model based CF is not any better than the memory based model. Another big issue with the matrix factorization approach is that it does not work well with missing data. Yelp dataset that is considered in this script has no Nan/missing values and thus the SVD worked. But in real-life scenario that is hardly the case."
   ]
  },
  {
   "cell_type": "markdown",
   "metadata": {},
   "source": [
    "## Text-Based Model"
   ]
  },
  {
   "cell_type": "code",
   "execution_count": 48,
   "metadata": {},
   "outputs": [],
   "source": [
    "from nltk.corpus import stopwords\n",
    "from scipy.sparse import csr_matrix\n",
    "from sklearn.feature_extraction.text import CountVectorizer # convert words to count vector\n",
    "from sklearn.feature_extraction.text import TfidfTransformer # used to pipe line \n",
    "from sklearn.naive_bayes import MultinomialNB\n",
    "from sklearn.linear_model import LogisticRegression,LinearRegression\n",
    "from sklearn.metrics import confusion_matrix, classification_report\n",
    "from sklearn.pipeline import Pipeline\n",
    "from sklearn.feature_extraction.text import TfidfVectorizer\n",
    "from sklearn.metrics.pairwise import cosine_similarity\n",
    "from sklearn.preprocessing import MinMaxScaler\n",
    "import seaborn as sns\n",
    "import string\n",
    "\n",
    "%matplotlib inline"
   ]
  },
  {
   "cell_type": "code",
   "execution_count": 49,
   "metadata": {},
   "outputs": [],
   "source": [
    "text_base = cleaned_df[['business_id', 'user_id', 'user_rating', 'text']]"
   ]
  },
  {
   "cell_type": "markdown",
   "metadata": {},
   "source": [
    "For text based analysis, we need to remove all punctuations and stopwords. Then we can get word frequency and make some preparations for further building up model."
   ]
  },
  {
   "cell_type": "code",
   "execution_count": 50,
   "metadata": {},
   "outputs": [],
   "source": [
    "def remove_punc_stopword(text):\n",
    "    \"\"\"\n",
    "    Takes in a string of text, performs the following:\n",
    "    1. Remove all punctuation\n",
    "    2. Remove all stopwords\n",
    "    3. Returns a list of the cleaned text\n",
    "    \"\"\"\n",
    "    remove_punc = [word for word in text if word not in string.punctuation]\n",
    "    remove_punc = ''.join(remove_punc)\n",
    "    return [word.lower() for word in remove_punc.split() if word.lower() not in stopwords.words('english')]"
   ]
  },
  {
   "cell_type": "markdown",
   "metadata": {},
   "source": [
    "All Stars Word Frequency and Word Cloud"
   ]
  },
  {
   "cell_type": "code",
   "execution_count": 51,
   "metadata": {},
   "outputs": [
    {
     "data": {
      "text/plain": [
       "business_id    219410\n",
       "user_id        219410\n",
       "user_rating    219410\n",
       "text           219410\n",
       "dtype: int64"
      ]
     },
     "execution_count": 51,
     "metadata": {},
     "output_type": "execute_result"
    }
   ],
   "source": [
    "yelp_text_allstars = text_base.copy()\n",
    "yelp_text_allstars['text'] = yelp_text_allstars['text'].apply(remove_punc_stopword)\n",
    "yelp_text_allstars.count()"
   ]
  },
  {
   "cell_type": "code",
   "execution_count": 52,
   "metadata": {},
   "outputs": [
    {
     "data": {
      "text/html": [
       "<div>\n",
       "<style scoped>\n",
       "    .dataframe tbody tr th:only-of-type {\n",
       "        vertical-align: middle;\n",
       "    }\n",
       "\n",
       "    .dataframe tbody tr th {\n",
       "        vertical-align: top;\n",
       "    }\n",
       "\n",
       "    .dataframe thead th {\n",
       "        text-align: right;\n",
       "    }\n",
       "</style>\n",
       "<table border=\"1\" class=\"dataframe\">\n",
       "  <thead>\n",
       "    <tr style=\"text-align: right;\">\n",
       "      <th></th>\n",
       "      <th>business_id</th>\n",
       "      <th>user_id</th>\n",
       "      <th>user_rating</th>\n",
       "      <th>text</th>\n",
       "    </tr>\n",
       "  </thead>\n",
       "  <tbody>\n",
       "    <tr>\n",
       "      <th>121</th>\n",
       "      <td>0QjROMVW9ACKjhSEfHqNCQ</td>\n",
       "      <td>Zr535e3501Ygs4hO5hO05Q</td>\n",
       "      <td>4.0</td>\n",
       "      <td>[vietnamese, person, highly, recommend, place,...</td>\n",
       "    </tr>\n",
       "    <tr>\n",
       "      <th>122</th>\n",
       "      <td>0QjROMVW9ACKjhSEfHqNCQ</td>\n",
       "      <td>20xtru4h_7TjFn4lSHmSsg</td>\n",
       "      <td>5.0</td>\n",
       "      <td>[going, mi, mi, restaurant, years, love, place...</td>\n",
       "    </tr>\n",
       "    <tr>\n",
       "      <th>124</th>\n",
       "      <td>0QjROMVW9ACKjhSEfHqNCQ</td>\n",
       "      <td>222kqiACWSwnpcxC0AaxFA</td>\n",
       "      <td>5.0</td>\n",
       "      <td>[honestly, think, anyone, would, enjoy, food, ...</td>\n",
       "    </tr>\n",
       "    <tr>\n",
       "      <th>125</th>\n",
       "      <td>0QjROMVW9ACKjhSEfHqNCQ</td>\n",
       "      <td>90B8GzGsz6fcgry_LFN4ug</td>\n",
       "      <td>5.0</td>\n",
       "      <td>[good, day, reading, review, mimis, thai, rest...</td>\n",
       "    </tr>\n",
       "    <tr>\n",
       "      <th>126</th>\n",
       "      <td>0QjROMVW9ACKjhSEfHqNCQ</td>\n",
       "      <td>2Va8pKWQLi4CtkrFY8an8A</td>\n",
       "      <td>4.0</td>\n",
       "      <td>[bun, fish, sauce, awesome, pho, beef, disappo...</td>\n",
       "    </tr>\n",
       "  </tbody>\n",
       "</table>\n",
       "</div>"
      ],
      "text/plain": [
       "                business_id                 user_id  user_rating  \\\n",
       "121  0QjROMVW9ACKjhSEfHqNCQ  Zr535e3501Ygs4hO5hO05Q          4.0   \n",
       "122  0QjROMVW9ACKjhSEfHqNCQ  20xtru4h_7TjFn4lSHmSsg          5.0   \n",
       "124  0QjROMVW9ACKjhSEfHqNCQ  222kqiACWSwnpcxC0AaxFA          5.0   \n",
       "125  0QjROMVW9ACKjhSEfHqNCQ  90B8GzGsz6fcgry_LFN4ug          5.0   \n",
       "126  0QjROMVW9ACKjhSEfHqNCQ  2Va8pKWQLi4CtkrFY8an8A          4.0   \n",
       "\n",
       "                                                  text  \n",
       "121  [vietnamese, person, highly, recommend, place,...  \n",
       "122  [going, mi, mi, restaurant, years, love, place...  \n",
       "124  [honestly, think, anyone, would, enjoy, food, ...  \n",
       "125  [good, day, reading, review, mimis, thai, rest...  \n",
       "126  [bun, fish, sauce, awesome, pho, beef, disappo...  "
      ]
     },
     "execution_count": 52,
     "metadata": {},
     "output_type": "execute_result"
    }
   ],
   "source": [
    "yelp_text_allstars.head()"
   ]
  },
  {
   "cell_type": "markdown",
   "metadata": {},
   "source": [
    "Plot 30 most frequent words from reviews"
   ]
  },
  {
   "cell_type": "code",
   "execution_count": 53,
   "metadata": {},
   "outputs": [
    {
     "data": {
      "image/png": "[encoded data removed]",
      "text/plain": [
       "<Figure size 432x288 with 1 Axes>"
      ]
     },
     "metadata": {
      "needs_background": "light"
     },
     "output_type": "display_data"
    },
    {
     "data": {
      "text/plain": [
       "<matplotlib.axes._subplots.AxesSubplot at 0x1d6355a99e8>"
      ]
     },
     "execution_count": 53,
     "metadata": {},
     "output_type": "execute_result"
    }
   ],
   "source": [
    "from nltk.probability import FreqDist\n",
    "words_split = []\n",
    "\n",
    "for i in range(0,219410): \n",
    "    for word in yelp_text_allstars['text'].iloc[i]:\n",
    "        words_split.append(word)\n",
    "FreqDist(words_split).plot(30, cumulative=False)"
   ]
  },
  {
   "cell_type": "code",
   "execution_count": 54,
   "metadata": {},
   "outputs": [],
   "source": [
    "yelp_allstars_text = yelp_text_allstars['text'].values\n",
    "#yelp_allstars_text"
   ]
  },
  {
   "cell_type": "code",
   "execution_count": 55,
   "metadata": {},
   "outputs": [],
   "source": [
    "# pip install wordcloud"
   ]
  },
  {
   "cell_type": "code",
   "execution_count": 56,
   "metadata": {},
   "outputs": [
    {
     "data": {
      "image/png": "[encoded data removed]",
      "text/plain": [
       "<Figure size 720x504 with 1 Axes>"
      ]
     },
     "metadata": {},
     "output_type": "display_data"
    }
   ],
   "source": [
    "from wordcloud import WordCloud, STOPWORDS\n",
    "wordcloud = WordCloud(\n",
    "    width = 3000,\n",
    "    height = 2000,\n",
    "    background_color = 'black',\n",
    "    stopwords = STOPWORDS).generate(str(yelp_allstars_text))\n",
    "\n",
    "fig = plt.figure(\n",
    "    figsize = (10, 7),\n",
    "    facecolor = 'k',\n",
    "    edgecolor = 'k')\n",
    "plt.imshow(wordcloud, interpolation = 'bilinear')\n",
    "plt.axis('off')\n",
    "plt.tight_layout(pad=0)"
   ]
  },
  {
   "cell_type": "markdown",
   "metadata": {},
   "source": [
    "Currently, what we have is 'text', which cannot be recoganized by machine learning model. We need to transfer those texts to vectors that can be used in machine learning model. What's more, let's first build up a machine learning model without using TF-IDF (term frequency-inverse document frequency). The tf-idf weight is a weight often used in information retrieval and text mining. This weight is a statistical measure used to evaluate how important a word is to a document in a collection or corpus."
   ]
  },
  {
   "cell_type": "markdown",
   "metadata": {},
   "source": [
    "## NLP Model (without TF-IDF)"
   ]
  },
  {
   "cell_type": "code",
   "execution_count": 57,
   "metadata": {},
   "outputs": [
    {
     "name": "stdout",
     "output_type": "stream",
     "text": [
      "Text based model without TDIDF training RMSE:0.7721838597769017\n",
      "Text based model without TDIDF testing RMSE:0.8400207190906588\n",
      "Text based model without TDIDF training MAE:0.43443129952404824\n",
      "Text based model without TDIDF testing MAE:0.5230542515534083\n"
     ]
    }
   ],
   "source": [
    "text = cleaned_df['text']\n",
    "rating = cleaned_df['user_rating']\n",
    "cv = CountVectorizer()\n",
    "text = cv.fit_transform(text)\n",
    "\n",
    "text_train, text_test, rating_train, rating_test = train_test_split(text, rating, test_size=0.3)\n",
    "model = MultinomialNB()\n",
    "model.fit(text_train,rating_train)\n",
    "\n",
    "train_prediction = model.predict(text_train)\n",
    "test_prediction = model.predict(text_test)\n",
    "\n",
    "text_TrainRMSE = rmse(rating_train, train_prediction)\n",
    "text_TestRMSE = rmse(rating_test, test_prediction)\n",
    "trainRMSE.append(text_TrainRMSE)\n",
    "testRMSE.append(text_TestRMSE)\n",
    "print('Text based model without TDIDF training RMSE:' + str(text_TrainRMSE))\n",
    "print('Text based model without TDIDF testing RMSE:' + str(text_TestRMSE))\n",
    "\n",
    "text_TrainMAE = mae(rating_train, train_prediction)\n",
    "text_TestMAE = mae(rating_test, test_prediction)\n",
    "trainMAE.append(text_TrainMAE)\n",
    "testMAE.append(text_TestMAE)\n",
    "print('Text based model without TDIDF training MAE:' + str(text_TrainMAE))\n",
    "print('Text based model without TDIDF testing MAE:' + str(text_TestMAE))"
   ]
  },
  {
   "cell_type": "code",
   "execution_count": 58,
   "metadata": {},
   "outputs": [
    {
     "name": "stdout",
     "output_type": "stream",
     "text": [
      "              precision    recall  f1-score   support\n",
      "\n",
      "         1.0       0.57      0.55      0.56      4104\n",
      "         2.0       0.41      0.32      0.36      6306\n",
      "         3.0       0.49      0.49      0.49     13798\n",
      "         4.0       0.56      0.60      0.58     24116\n",
      "         5.0       0.62      0.61      0.62     17499\n",
      "\n",
      "    accuracy                           0.55     65823\n",
      "   macro avg       0.53      0.51      0.52     65823\n",
      "weighted avg       0.55      0.55      0.55     65823\n",
      "\n"
     ]
    }
   ],
   "source": [
    "print(classification_report(rating_test, test_prediction))"
   ]
  },
  {
   "cell_type": "markdown",
   "metadata": {},
   "source": [
    "Typically, the tf-idf weight is composed by two terms: the first computes the normalized Term Frequency (TF), which is the number of times a word appears in a document, divided by the total number of words in that document, measuring how frequently a term occures in document; the second term is the Inverse Document Frequency (IDF), computed as the logarithm of the number of the documents in the corpus divided by the number of documents where the specific term appears, measuring how important a term is."
   ]
  },
  {
   "cell_type": "code",
   "execution_count": 59,
   "metadata": {},
   "outputs": [
    {
     "name": "stdout",
     "output_type": "stream",
     "text": [
      "Text based model with TDIDF training RMSE:1.146087308149167\n",
      "Text based model with TDIDF testing RMSE:1.1517562216007429\n",
      "Text based model with TDIDF training MAE:0.7896957424782045\n",
      "Text based model with TDIDF testing MAE:0.8080002430761284\n"
     ]
    }
   ],
   "source": [
    "from sklearn.feature_extraction.text import TfidfVectorizer\n",
    "\n",
    "text = cleaned_df['text']\n",
    "rating = cleaned_df['user_rating']\n",
    "\n",
    "#tfidf_transformer = TfidfTransformer(smooth_idf=True,use_idf=True).fit(text)\n",
    "#text = tfidf_transformer.transform(text)\n",
    "\n",
    "tfidf_vectorizer = TfidfVectorizer()\n",
    "text=tfidf_vectorizer.fit_transform(text)\n",
    "\n",
    "text_train, text_test, rating_train, rating_test = train_test_split(text, rating, test_size=0.3)\n",
    "model = MultinomialNB()\n",
    "model.fit(text_train,rating_train)\n",
    "\n",
    "train_prediction = model.predict(text_train)\n",
    "test_prediction = model.predict(text_test)\n",
    "\n",
    "text_TFIDF_TrainRMSE = rmse(rating_train, train_prediction)\n",
    "text_TFIDF_TestRMSE = rmse(rating_test, test_prediction)\n",
    "trainRMSE.append(text_TFIDF_TrainRMSE)\n",
    "testRMSE.append(text_TFIDF_TestRMSE)\n",
    "print('Text based model with TDIDF training RMSE:' + str(text_TFIDF_TrainRMSE))\n",
    "print('Text based model with TDIDF testing RMSE:' + str(text_TFIDF_TestRMSE))\n",
    "\n",
    "text_TFIDF_TrainMAE = mae(rating_train, train_prediction)\n",
    "text_TFIDF_TestMAE = mae(rating_test, test_prediction)\n",
    "trainMAE.append(text_TFIDF_TrainMAE)\n",
    "testMAE.append(text_TFIDF_TestMAE)\n",
    "print('Text based model with TDIDF training MAE:' + str(text_TFIDF_TrainMAE))\n",
    "print('Text based model with TDIDF testing MAE:' + str(text_TFIDF_TestMAE))"
   ]
  },
  {
   "cell_type": "markdown",
   "metadata": {},
   "source": [
    "Method 2. Using Pipeline model."
   ]
  },
  {
   "cell_type": "code",
   "execution_count": 60,
   "metadata": {},
   "outputs": [],
   "source": [
    "#rating_train.shape"
   ]
  },
  {
   "cell_type": "code",
   "execution_count": 61,
   "metadata": {},
   "outputs": [],
   "source": [
    "#text_train.shape"
   ]
  },
  {
   "cell_type": "code",
   "execution_count": 62,
   "metadata": {},
   "outputs": [
    {
     "name": "stdout",
     "output_type": "stream",
     "text": [
      "              precision    recall  f1-score   support\n",
      "\n",
      "         1.0       0.88      0.01      0.03      4100\n",
      "         2.0       0.31      0.00      0.00      6364\n",
      "         3.0       0.19      0.03      0.05     13633\n",
      "         4.0       0.39      0.98      0.55     24101\n",
      "         5.0       0.81      0.15      0.25     17625\n",
      "\n",
      "    accuracy                           0.40     65823\n",
      "   macro avg       0.51      0.23      0.18     65823\n",
      "weighted avg       0.48      0.40      0.28     65823\n",
      "\n"
     ]
    }
   ],
   "source": [
    "pipe = Pipeline([('bagofwords',CountVectorizer()),\n",
    "                 ('tfidf',TfidfTransformer()),\n",
    "                 ('model', MultinomialNB())])\n",
    "\n",
    "text = cleaned_df['text']\n",
    "rating = cleaned_df['user_rating']\n",
    "text_train, text_test, rating_train, rating_test = train_test_split(text, rating, test_size=0.3)\n",
    "\n",
    "pipe.fit(text_train, rating_train)\n",
    "predict = pipe.predict(text_test)\n",
    "print(classification_report(rating_test, predict))"
   ]
  },
  {
   "cell_type": "markdown",
   "metadata": {},
   "source": [
    "# Performance Plot"
   ]
  },
  {
   "cell_type": "code",
   "execution_count": 63,
   "metadata": {},
   "outputs": [
    {
     "data": {
      "text/html": [
       "<div>\n",
       "<style scoped>\n",
       "    .dataframe tbody tr th:only-of-type {\n",
       "        vertical-align: middle;\n",
       "    }\n",
       "\n",
       "    .dataframe tbody tr th {\n",
       "        vertical-align: top;\n",
       "    }\n",
       "\n",
       "    .dataframe thead th {\n",
       "        text-align: right;\n",
       "    }\n",
       "</style>\n",
       "<table border=\"1\" class=\"dataframe\">\n",
       "  <thead>\n",
       "    <tr style=\"text-align: right;\">\n",
       "      <th></th>\n",
       "      <th>model</th>\n",
       "      <th>trainRMSE</th>\n",
       "      <th>testRMSE</th>\n",
       "    </tr>\n",
       "  </thead>\n",
       "  <tbody>\n",
       "    <tr>\n",
       "      <th>0</th>\n",
       "      <td>User CF</td>\n",
       "      <td>0.170809</td>\n",
       "      <td>0.113429</td>\n",
       "    </tr>\n",
       "    <tr>\n",
       "      <th>1</th>\n",
       "      <td>Item CF</td>\n",
       "      <td>0.171274</td>\n",
       "      <td>0.113317</td>\n",
       "    </tr>\n",
       "    <tr>\n",
       "      <th>2</th>\n",
       "      <td>SVD</td>\n",
       "      <td>0.165729</td>\n",
       "      <td>0.118368</td>\n",
       "    </tr>\n",
       "    <tr>\n",
       "      <th>3</th>\n",
       "      <td>Text(without TFIDF)</td>\n",
       "      <td>0.772184</td>\n",
       "      <td>0.840021</td>\n",
       "    </tr>\n",
       "    <tr>\n",
       "      <th>4</th>\n",
       "      <td>Text(with TFIDF)</td>\n",
       "      <td>1.146087</td>\n",
       "      <td>1.151756</td>\n",
       "    </tr>\n",
       "  </tbody>\n",
       "</table>\n",
       "</div>"
      ],
      "text/plain": [
       "                 model  trainRMSE  testRMSE\n",
       "0              User CF   0.170809  0.113429\n",
       "1              Item CF   0.171274  0.113317\n",
       "2                  SVD   0.165729  0.118368\n",
       "3  Text(without TFIDF)   0.772184  0.840021\n",
       "4     Text(with TFIDF)   1.146087  1.151756"
      ]
     },
     "execution_count": 63,
     "metadata": {},
     "output_type": "execute_result"
    }
   ],
   "source": [
    "model = ['User CF','Item CF','SVD','Text(without TFIDF)', 'Text(with TFIDF)']\n",
    "RMSE = {'model':model, 'trainRMSE': trainRMSE, 'testRMSE': testRMSE}\n",
    "RMSE = pd.DataFrame(RMSE)\n",
    "RMSE"
   ]
  },
  {
   "cell_type": "code",
   "execution_count": 64,
   "metadata": {},
   "outputs": [
    {
     "data": {
      "text/html": [
       "<div>\n",
       "<style scoped>\n",
       "    .dataframe tbody tr th:only-of-type {\n",
       "        vertical-align: middle;\n",
       "    }\n",
       "\n",
       "    .dataframe tbody tr th {\n",
       "        vertical-align: top;\n",
       "    }\n",
       "\n",
       "    .dataframe thead th {\n",
       "        text-align: right;\n",
       "    }\n",
       "</style>\n",
       "<table border=\"1\" class=\"dataframe\">\n",
       "  <thead>\n",
       "    <tr style=\"text-align: right;\">\n",
       "      <th></th>\n",
       "      <th>model</th>\n",
       "      <th>trainMAE</th>\n",
       "      <th>testMAE</th>\n",
       "    </tr>\n",
       "  </thead>\n",
       "  <tbody>\n",
       "    <tr>\n",
       "      <th>0</th>\n",
       "      <td>User CF</td>\n",
       "      <td>0.016565</td>\n",
       "      <td>0.012531</td>\n",
       "    </tr>\n",
       "    <tr>\n",
       "      <th>1</th>\n",
       "      <td>Item CF</td>\n",
       "      <td>0.014494</td>\n",
       "      <td>0.010412</td>\n",
       "    </tr>\n",
       "    <tr>\n",
       "      <th>2</th>\n",
       "      <td>SVD</td>\n",
       "      <td>0.015489</td>\n",
       "      <td>0.012126</td>\n",
       "    </tr>\n",
       "    <tr>\n",
       "      <th>3</th>\n",
       "      <td>Text(without TFIDF)</td>\n",
       "      <td>0.434431</td>\n",
       "      <td>0.523054</td>\n",
       "    </tr>\n",
       "    <tr>\n",
       "      <th>4</th>\n",
       "      <td>Text(with TFIDF)</td>\n",
       "      <td>0.789696</td>\n",
       "      <td>0.808000</td>\n",
       "    </tr>\n",
       "  </tbody>\n",
       "</table>\n",
       "</div>"
      ],
      "text/plain": [
       "                 model  trainMAE   testMAE\n",
       "0              User CF  0.016565  0.012531\n",
       "1              Item CF  0.014494  0.010412\n",
       "2                  SVD  0.015489  0.012126\n",
       "3  Text(without TFIDF)  0.434431  0.523054\n",
       "4     Text(with TFIDF)  0.789696  0.808000"
      ]
     },
     "execution_count": 64,
     "metadata": {},
     "output_type": "execute_result"
    }
   ],
   "source": [
    "MAE = {'model':model, 'trainMAE': trainMAE, 'testMAE': testMAE}\n",
    "MAE = pd.DataFrame(MAE)\n",
    "MAE"
   ]
  },
  {
   "cell_type": "code",
   "execution_count": 65,
   "metadata": {},
   "outputs": [
    {
     "data": {
      "image/png": "[encoded data removed]",
      "text/plain": [
       "<Figure size 432x288 with 1 Axes>"
      ]
     },
     "metadata": {
      "needs_background": "light"
     },
     "output_type": "display_data"
    }
   ],
   "source": [
    "fig = plt.figure()\n",
    "ax = fig.add_subplot(111)\n",
    "\n",
    "## the data\n",
    "N = 5\n",
    "## necessary variables\n",
    "ind = np.arange(N)                # the x locations for the groups\n",
    "width = 0.35                      # the width of the bars\n",
    " \n",
    "## the bars\n",
    "rects1 = ax.bar(ind, trainRMSE, width)\n",
    "rects2 = ax.bar(ind+width, testRMSE, width)\n",
    " \n",
    "# axes and labels\n",
    "#ax.set_xlim(-width,len(ind)+width)\n",
    "ax.set_ylim(0,1.2)\n",
    "ax.set_ylabel('RMSE')\n",
    "ax.set_title('RMSE by train/test for different recommenders')\n",
    "xTickMarks = model\n",
    "ax.set_xticks(ind+width)\n",
    "xtickNames = ax.set_xticklabels(xTickMarks)\n",
    "plt.setp(xtickNames, rotation=45, fontsize=10)\n",
    "## add a legend\n",
    "ax.legend( (rects1[0], rects2[0]), ('Train', 'Test') )\n",
    "plt.show()\n"
   ]
  },
  {
   "cell_type": "code",
   "execution_count": 66,
   "metadata": {},
   "outputs": [
    {
     "data": {
      "image/png": "[encoded data removed]",
      "text/plain": [
       "<Figure size 432x288 with 1 Axes>"
      ]
     },
     "metadata": {
      "needs_background": "light"
     },
     "output_type": "display_data"
    }
   ],
   "source": [
    "fig = plt.figure()\n",
    "ax = fig.add_subplot(111)\n",
    " \n",
    "## the bars\n",
    "rects1 = ax.bar(ind, trainMAE, width)\n",
    "rects2 = ax.bar(ind+width, testMAE, width)\n",
    " \n",
    "# axes and labels\n",
    "#ax.set_xlim(-width,len(ind)+width)\n",
    "ax.set_ylim(0,0.85)\n",
    "ax.set_ylabel('MAE')\n",
    "ax.set_title('MAE by train/test for different recommenders')\n",
    "xTickMarks = model\n",
    "ax.set_xticks(ind+width)\n",
    "xtickNames = ax.set_xticklabels(xTickMarks)\n",
    "plt.setp(xtickNames, rotation=45, fontsize=10)\n",
    "## add a legend\n",
    "ax.legend( (rects1[0], rects2[0]), ('Train', 'Test') )\n",
    "plt.show()"
   ]
  }
 ],
 "metadata": {
  "kernelspec": {
   "display_name": "Python 3",
   "language": "python",
   "name": "python3"
  },
  "language_info": {
   "codemirror_mode": {
    "name": "ipython",
    "version": 3
   },
   "file_extension": ".py",
   "mimetype": "text/x-python",
   "name": "python",
   "nbconvert_exporter": "python",
   "pygments_lexer": "ipython3",
   "version": "3.7.3"
  }
 },
 "nbformat": 4,
 "nbformat_minor": 2
}
